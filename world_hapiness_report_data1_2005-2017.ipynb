{
  "nbformat": 4,
  "nbformat_minor": 0,
  "metadata": {
    "colab": {
      "name": "world hapiness report data1 2005",
      "provenance": [],
      "authorship_tag": "ABX9TyMNpWW2t5BB/ETm0bZILSAy",
      "include_colab_link": true
    },
    "kernelspec": {
      "name": "python3",
      "display_name": "Python 3"
    },
    "language_info": {
      "name": "python"
    }
  },
  "cells": [
    {
      "cell_type": "markdown",
      "metadata": {
        "id": "view-in-github",
        "colab_type": "text"
      },
      "source": [
        "<a href=\"https://colab.research.google.com/github/meltemtugran/ML-Algoritms-with-world-hapiness-report-/blob/main/world_hapiness_report_data1_2005-2017.ipynb\" target=\"_parent\"><img src=\"https://colab.research.google.com/assets/colab-badge.svg\" alt=\"Open In Colab\"/></a>"
      ]
    },
    {
      "cell_type": "code",
      "metadata": {
        "id": "PA70VJeQxqpj"
      },
      "source": [
        "import numpy as np\n",
        "import pandas as pd\n",
        "import matplotlib as plt\n",
        "import seaborn as sns\n",
        "import matplotlib.pyplot as plt"
      ],
      "execution_count": null,
      "outputs": []
    },
    {
      "cell_type": "code",
      "source": [
        "data1=pd.read_csv('2005.csv')"
      ],
      "metadata": {
        "id": "72Ok5fVpDZ7T"
      },
      "execution_count": null,
      "outputs": []
    },
    {
      "cell_type": "code",
      "source": [
        "d1.info()"
      ],
      "metadata": {
        "colab": {
          "base_uri": "https://localhost:8080/"
        },
        "id": "zHaW__HHH7q9",
        "outputId": "29350ab8-2ec0-418d-a8d4-183dc59468d9"
      },
      "execution_count": null,
      "outputs": [
        {
          "output_type": "stream",
          "name": "stdout",
          "text": [
            "<class 'pandas.core.frame.DataFrame'>\n",
            "RangeIndex: 1949 entries, 0 to 1948\n",
            "Data columns (total 11 columns):\n",
            " #   Column                            Non-Null Count  Dtype  \n",
            "---  ------                            --------------  -----  \n",
            " 0   Country name                      1949 non-null   object \n",
            " 1   year                              1949 non-null   int64  \n",
            " 2   Life Ladder                       1949 non-null   float64\n",
            " 3   Log GDP per capita                1913 non-null   float64\n",
            " 4   Social support                    1936 non-null   float64\n",
            " 5   Healthy life expectancy at birth  1894 non-null   float64\n",
            " 6   Freedom to make life choices      1917 non-null   float64\n",
            " 7   Generosity                        1860 non-null   float64\n",
            " 8   Perceptions of corruption         1839 non-null   float64\n",
            " 9   Positive affect                   1927 non-null   float64\n",
            " 10  Negative affect                   1933 non-null   float64\n",
            "dtypes: float64(9), int64(1), object(1)\n",
            "memory usage: 167.6+ KB\n"
          ]
        }
      ]
    },
    {
      "cell_type": "code",
      "source": [
        "d1.shape"
      ],
      "metadata": {
        "colab": {
          "base_uri": "https://localhost:8080/"
        },
        "id": "YVGb-5y2HQcs",
        "outputId": "01bd85db-875d-43e9-cd73-483cc693c0f7"
      },
      "execution_count": null,
      "outputs": [
        {
          "output_type": "execute_result",
          "data": {
            "text/plain": [
              "(1949, 11)"
            ]
          },
          "metadata": {},
          "execution_count": 8
        }
      ]
    },
    {
      "cell_type": "code",
      "source": [
        "d1.dtypes"
      ],
      "metadata": {
        "colab": {
          "base_uri": "https://localhost:8080/"
        },
        "id": "tMNADN59G4wx",
        "outputId": "c916a709-93bd-40e3-a427-673c61686796"
      },
      "execution_count": null,
      "outputs": [
        {
          "output_type": "execute_result",
          "data": {
            "text/plain": [
              "Country name                         object\n",
              "year                                  int64\n",
              "Life Ladder                         float64\n",
              "Log GDP per capita                  float64\n",
              "Social support                      float64\n",
              "Healthy life expectancy at birth    float64\n",
              "Freedom to make life choices        float64\n",
              "Generosity                          float64\n",
              "Perceptions of corruption           float64\n",
              "Positive affect                     float64\n",
              "Negative affect                     float64\n",
              "dtype: object"
            ]
          },
          "metadata": {},
          "execution_count": 6
        }
      ]
    },
    {
      "cell_type": "code",
      "source": [
        "d1.tail()"
      ],
      "metadata": {
        "colab": {
          "base_uri": "https://localhost:8080/",
          "height": 250
        },
        "id": "SJmedFNrHegl",
        "outputId": "c8e925e1-12ea-4e64-e18c-b7cca8a01ecb"
      },
      "execution_count": null,
      "outputs": [
        {
          "output_type": "execute_result",
          "data": {
            "text/html": [
              "\n",
              "  <div id=\"df-dc1f9d02-b408-4b19-8b02-d37294acdc7f\">\n",
              "    <div class=\"colab-df-container\">\n",
              "      <div>\n",
              "<style scoped>\n",
              "    .dataframe tbody tr th:only-of-type {\n",
              "        vertical-align: middle;\n",
              "    }\n",
              "\n",
              "    .dataframe tbody tr th {\n",
              "        vertical-align: top;\n",
              "    }\n",
              "\n",
              "    .dataframe thead th {\n",
              "        text-align: right;\n",
              "    }\n",
              "</style>\n",
              "<table border=\"1\" class=\"dataframe\">\n",
              "  <thead>\n",
              "    <tr style=\"text-align: right;\">\n",
              "      <th></th>\n",
              "      <th>Country name</th>\n",
              "      <th>year</th>\n",
              "      <th>Life Ladder</th>\n",
              "      <th>Log GDP per capita</th>\n",
              "      <th>Social support</th>\n",
              "      <th>Healthy life expectancy at birth</th>\n",
              "      <th>Freedom to make life choices</th>\n",
              "      <th>Generosity</th>\n",
              "      <th>Perceptions of corruption</th>\n",
              "      <th>Positive affect</th>\n",
              "      <th>Negative affect</th>\n",
              "    </tr>\n",
              "  </thead>\n",
              "  <tbody>\n",
              "    <tr>\n",
              "      <th>1944</th>\n",
              "      <td>Zimbabwe</td>\n",
              "      <td>2016</td>\n",
              "      <td>3.735</td>\n",
              "      <td>7.984</td>\n",
              "      <td>0.768</td>\n",
              "      <td>54.4</td>\n",
              "      <td>0.733</td>\n",
              "      <td>-0.095</td>\n",
              "      <td>0.724</td>\n",
              "      <td>0.738</td>\n",
              "      <td>0.209</td>\n",
              "    </tr>\n",
              "    <tr>\n",
              "      <th>1945</th>\n",
              "      <td>Zimbabwe</td>\n",
              "      <td>2017</td>\n",
              "      <td>3.638</td>\n",
              "      <td>8.016</td>\n",
              "      <td>0.754</td>\n",
              "      <td>55.0</td>\n",
              "      <td>0.753</td>\n",
              "      <td>-0.098</td>\n",
              "      <td>0.751</td>\n",
              "      <td>0.806</td>\n",
              "      <td>0.224</td>\n",
              "    </tr>\n",
              "    <tr>\n",
              "      <th>1946</th>\n",
              "      <td>Zimbabwe</td>\n",
              "      <td>2018</td>\n",
              "      <td>3.616</td>\n",
              "      <td>8.049</td>\n",
              "      <td>0.775</td>\n",
              "      <td>55.6</td>\n",
              "      <td>0.763</td>\n",
              "      <td>-0.068</td>\n",
              "      <td>0.844</td>\n",
              "      <td>0.710</td>\n",
              "      <td>0.212</td>\n",
              "    </tr>\n",
              "    <tr>\n",
              "      <th>1947</th>\n",
              "      <td>Zimbabwe</td>\n",
              "      <td>2019</td>\n",
              "      <td>2.694</td>\n",
              "      <td>7.950</td>\n",
              "      <td>0.759</td>\n",
              "      <td>56.2</td>\n",
              "      <td>0.632</td>\n",
              "      <td>-0.064</td>\n",
              "      <td>0.831</td>\n",
              "      <td>0.716</td>\n",
              "      <td>0.235</td>\n",
              "    </tr>\n",
              "    <tr>\n",
              "      <th>1948</th>\n",
              "      <td>Zimbabwe</td>\n",
              "      <td>2020</td>\n",
              "      <td>3.160</td>\n",
              "      <td>7.829</td>\n",
              "      <td>0.717</td>\n",
              "      <td>56.8</td>\n",
              "      <td>0.643</td>\n",
              "      <td>-0.009</td>\n",
              "      <td>0.789</td>\n",
              "      <td>0.703</td>\n",
              "      <td>0.346</td>\n",
              "    </tr>\n",
              "  </tbody>\n",
              "</table>\n",
              "</div>\n",
              "      <button class=\"colab-df-convert\" onclick=\"convertToInteractive('df-dc1f9d02-b408-4b19-8b02-d37294acdc7f')\"\n",
              "              title=\"Convert this dataframe to an interactive table.\"\n",
              "              style=\"display:none;\">\n",
              "        \n",
              "  <svg xmlns=\"http://www.w3.org/2000/svg\" height=\"24px\"viewBox=\"0 0 24 24\"\n",
              "       width=\"24px\">\n",
              "    <path d=\"M0 0h24v24H0V0z\" fill=\"none\"/>\n",
              "    <path d=\"M18.56 5.44l.94 2.06.94-2.06 2.06-.94-2.06-.94-.94-2.06-.94 2.06-2.06.94zm-11 1L8.5 8.5l.94-2.06 2.06-.94-2.06-.94L8.5 2.5l-.94 2.06-2.06.94zm10 10l.94 2.06.94-2.06 2.06-.94-2.06-.94-.94-2.06-.94 2.06-2.06.94z\"/><path d=\"M17.41 7.96l-1.37-1.37c-.4-.4-.92-.59-1.43-.59-.52 0-1.04.2-1.43.59L10.3 9.45l-7.72 7.72c-.78.78-.78 2.05 0 2.83L4 21.41c.39.39.9.59 1.41.59.51 0 1.02-.2 1.41-.59l7.78-7.78 2.81-2.81c.8-.78.8-2.07 0-2.86zM5.41 20L4 18.59l7.72-7.72 1.47 1.35L5.41 20z\"/>\n",
              "  </svg>\n",
              "      </button>\n",
              "      \n",
              "  <style>\n",
              "    .colab-df-container {\n",
              "      display:flex;\n",
              "      flex-wrap:wrap;\n",
              "      gap: 12px;\n",
              "    }\n",
              "\n",
              "    .colab-df-convert {\n",
              "      background-color: #E8F0FE;\n",
              "      border: none;\n",
              "      border-radius: 50%;\n",
              "      cursor: pointer;\n",
              "      display: none;\n",
              "      fill: #1967D2;\n",
              "      height: 32px;\n",
              "      padding: 0 0 0 0;\n",
              "      width: 32px;\n",
              "    }\n",
              "\n",
              "    .colab-df-convert:hover {\n",
              "      background-color: #E2EBFA;\n",
              "      box-shadow: 0px 1px 2px rgba(60, 64, 67, 0.3), 0px 1px 3px 1px rgba(60, 64, 67, 0.15);\n",
              "      fill: #174EA6;\n",
              "    }\n",
              "\n",
              "    [theme=dark] .colab-df-convert {\n",
              "      background-color: #3B4455;\n",
              "      fill: #D2E3FC;\n",
              "    }\n",
              "\n",
              "    [theme=dark] .colab-df-convert:hover {\n",
              "      background-color: #434B5C;\n",
              "      box-shadow: 0px 1px 3px 1px rgba(0, 0, 0, 0.15);\n",
              "      filter: drop-shadow(0px 1px 2px rgba(0, 0, 0, 0.3));\n",
              "      fill: #FFFFFF;\n",
              "    }\n",
              "  </style>\n",
              "\n",
              "      <script>\n",
              "        const buttonEl =\n",
              "          document.querySelector('#df-dc1f9d02-b408-4b19-8b02-d37294acdc7f button.colab-df-convert');\n",
              "        buttonEl.style.display =\n",
              "          google.colab.kernel.accessAllowed ? 'block' : 'none';\n",
              "\n",
              "        async function convertToInteractive(key) {\n",
              "          const element = document.querySelector('#df-dc1f9d02-b408-4b19-8b02-d37294acdc7f');\n",
              "          const dataTable =\n",
              "            await google.colab.kernel.invokeFunction('convertToInteractive',\n",
              "                                                     [key], {});\n",
              "          if (!dataTable) return;\n",
              "\n",
              "          const docLinkHtml = 'Like what you see? Visit the ' +\n",
              "            '<a target=\"_blank\" href=https://colab.research.google.com/notebooks/data_table.ipynb>data table notebook</a>'\n",
              "            + ' to learn more about interactive tables.';\n",
              "          element.innerHTML = '';\n",
              "          dataTable['output_type'] = 'display_data';\n",
              "          await google.colab.output.renderOutput(dataTable, element);\n",
              "          const docLink = document.createElement('div');\n",
              "          docLink.innerHTML = docLinkHtml;\n",
              "          element.appendChild(docLink);\n",
              "        }\n",
              "      </script>\n",
              "    </div>\n",
              "  </div>\n",
              "  "
            ],
            "text/plain": [
              "     Country name  year  ...  Positive affect  Negative affect\n",
              "1944     Zimbabwe  2016  ...            0.738            0.209\n",
              "1945     Zimbabwe  2017  ...            0.806            0.224\n",
              "1946     Zimbabwe  2018  ...            0.710            0.212\n",
              "1947     Zimbabwe  2019  ...            0.716            0.235\n",
              "1948     Zimbabwe  2020  ...            0.703            0.346\n",
              "\n",
              "[5 rows x 11 columns]"
            ]
          },
          "metadata": {},
          "execution_count": 9
        }
      ]
    },
    {
      "cell_type": "code",
      "source": [
        "d1.head(10)"
      ],
      "metadata": {
        "colab": {
          "base_uri": "https://localhost:8080/",
          "height": 425
        },
        "id": "HHaNzMcPDk07",
        "outputId": "f81dedbb-ce1b-43f8-9c1c-1accaa75bb2c"
      },
      "execution_count": null,
      "outputs": [
        {
          "output_type": "execute_result",
          "data": {
            "text/html": [
              "\n",
              "  <div id=\"df-78e94772-ef00-46cc-8b31-9fca1025637f\">\n",
              "    <div class=\"colab-df-container\">\n",
              "      <div>\n",
              "<style scoped>\n",
              "    .dataframe tbody tr th:only-of-type {\n",
              "        vertical-align: middle;\n",
              "    }\n",
              "\n",
              "    .dataframe tbody tr th {\n",
              "        vertical-align: top;\n",
              "    }\n",
              "\n",
              "    .dataframe thead th {\n",
              "        text-align: right;\n",
              "    }\n",
              "</style>\n",
              "<table border=\"1\" class=\"dataframe\">\n",
              "  <thead>\n",
              "    <tr style=\"text-align: right;\">\n",
              "      <th></th>\n",
              "      <th>Country name</th>\n",
              "      <th>year</th>\n",
              "      <th>Life Ladder</th>\n",
              "      <th>Log GDP per capita</th>\n",
              "      <th>Social support</th>\n",
              "      <th>Healthy life expectancy at birth</th>\n",
              "      <th>Freedom to make life choices</th>\n",
              "      <th>Generosity</th>\n",
              "      <th>Perceptions of corruption</th>\n",
              "      <th>Positive affect</th>\n",
              "      <th>Negative affect</th>\n",
              "    </tr>\n",
              "  </thead>\n",
              "  <tbody>\n",
              "    <tr>\n",
              "      <th>0</th>\n",
              "      <td>Afghanistan</td>\n",
              "      <td>2008</td>\n",
              "      <td>3.724</td>\n",
              "      <td>7.370</td>\n",
              "      <td>0.451</td>\n",
              "      <td>50.80</td>\n",
              "      <td>0.718</td>\n",
              "      <td>0.168</td>\n",
              "      <td>0.882</td>\n",
              "      <td>0.518</td>\n",
              "      <td>0.258</td>\n",
              "    </tr>\n",
              "    <tr>\n",
              "      <th>1</th>\n",
              "      <td>Afghanistan</td>\n",
              "      <td>2009</td>\n",
              "      <td>4.402</td>\n",
              "      <td>7.540</td>\n",
              "      <td>0.552</td>\n",
              "      <td>51.20</td>\n",
              "      <td>0.679</td>\n",
              "      <td>0.190</td>\n",
              "      <td>0.850</td>\n",
              "      <td>0.584</td>\n",
              "      <td>0.237</td>\n",
              "    </tr>\n",
              "    <tr>\n",
              "      <th>2</th>\n",
              "      <td>Afghanistan</td>\n",
              "      <td>2010</td>\n",
              "      <td>4.758</td>\n",
              "      <td>7.647</td>\n",
              "      <td>0.539</td>\n",
              "      <td>51.60</td>\n",
              "      <td>0.600</td>\n",
              "      <td>0.121</td>\n",
              "      <td>0.707</td>\n",
              "      <td>0.618</td>\n",
              "      <td>0.275</td>\n",
              "    </tr>\n",
              "    <tr>\n",
              "      <th>3</th>\n",
              "      <td>Afghanistan</td>\n",
              "      <td>2011</td>\n",
              "      <td>3.832</td>\n",
              "      <td>7.620</td>\n",
              "      <td>0.521</td>\n",
              "      <td>51.92</td>\n",
              "      <td>0.496</td>\n",
              "      <td>0.162</td>\n",
              "      <td>0.731</td>\n",
              "      <td>0.611</td>\n",
              "      <td>0.267</td>\n",
              "    </tr>\n",
              "    <tr>\n",
              "      <th>4</th>\n",
              "      <td>Afghanistan</td>\n",
              "      <td>2012</td>\n",
              "      <td>3.783</td>\n",
              "      <td>7.705</td>\n",
              "      <td>0.521</td>\n",
              "      <td>52.24</td>\n",
              "      <td>0.531</td>\n",
              "      <td>0.236</td>\n",
              "      <td>0.776</td>\n",
              "      <td>0.710</td>\n",
              "      <td>0.268</td>\n",
              "    </tr>\n",
              "    <tr>\n",
              "      <th>5</th>\n",
              "      <td>Afghanistan</td>\n",
              "      <td>2013</td>\n",
              "      <td>3.572</td>\n",
              "      <td>7.725</td>\n",
              "      <td>0.484</td>\n",
              "      <td>52.56</td>\n",
              "      <td>0.578</td>\n",
              "      <td>0.061</td>\n",
              "      <td>0.823</td>\n",
              "      <td>0.621</td>\n",
              "      <td>0.273</td>\n",
              "    </tr>\n",
              "    <tr>\n",
              "      <th>6</th>\n",
              "      <td>Afghanistan</td>\n",
              "      <td>2014</td>\n",
              "      <td>3.131</td>\n",
              "      <td>7.718</td>\n",
              "      <td>0.526</td>\n",
              "      <td>52.88</td>\n",
              "      <td>0.509</td>\n",
              "      <td>0.104</td>\n",
              "      <td>0.871</td>\n",
              "      <td>0.532</td>\n",
              "      <td>0.375</td>\n",
              "    </tr>\n",
              "    <tr>\n",
              "      <th>7</th>\n",
              "      <td>Afghanistan</td>\n",
              "      <td>2015</td>\n",
              "      <td>3.983</td>\n",
              "      <td>7.702</td>\n",
              "      <td>0.529</td>\n",
              "      <td>53.20</td>\n",
              "      <td>0.389</td>\n",
              "      <td>0.080</td>\n",
              "      <td>0.881</td>\n",
              "      <td>0.554</td>\n",
              "      <td>0.339</td>\n",
              "    </tr>\n",
              "    <tr>\n",
              "      <th>8</th>\n",
              "      <td>Afghanistan</td>\n",
              "      <td>2016</td>\n",
              "      <td>4.220</td>\n",
              "      <td>7.697</td>\n",
              "      <td>0.559</td>\n",
              "      <td>53.00</td>\n",
              "      <td>0.523</td>\n",
              "      <td>0.042</td>\n",
              "      <td>0.793</td>\n",
              "      <td>0.565</td>\n",
              "      <td>0.348</td>\n",
              "    </tr>\n",
              "    <tr>\n",
              "      <th>9</th>\n",
              "      <td>Afghanistan</td>\n",
              "      <td>2017</td>\n",
              "      <td>2.662</td>\n",
              "      <td>7.697</td>\n",
              "      <td>0.491</td>\n",
              "      <td>52.80</td>\n",
              "      <td>0.427</td>\n",
              "      <td>-0.121</td>\n",
              "      <td>0.954</td>\n",
              "      <td>0.496</td>\n",
              "      <td>0.371</td>\n",
              "    </tr>\n",
              "  </tbody>\n",
              "</table>\n",
              "</div>\n",
              "      <button class=\"colab-df-convert\" onclick=\"convertToInteractive('df-78e94772-ef00-46cc-8b31-9fca1025637f')\"\n",
              "              title=\"Convert this dataframe to an interactive table.\"\n",
              "              style=\"display:none;\">\n",
              "        \n",
              "  <svg xmlns=\"http://www.w3.org/2000/svg\" height=\"24px\"viewBox=\"0 0 24 24\"\n",
              "       width=\"24px\">\n",
              "    <path d=\"M0 0h24v24H0V0z\" fill=\"none\"/>\n",
              "    <path d=\"M18.56 5.44l.94 2.06.94-2.06 2.06-.94-2.06-.94-.94-2.06-.94 2.06-2.06.94zm-11 1L8.5 8.5l.94-2.06 2.06-.94-2.06-.94L8.5 2.5l-.94 2.06-2.06.94zm10 10l.94 2.06.94-2.06 2.06-.94-2.06-.94-.94-2.06-.94 2.06-2.06.94z\"/><path d=\"M17.41 7.96l-1.37-1.37c-.4-.4-.92-.59-1.43-.59-.52 0-1.04.2-1.43.59L10.3 9.45l-7.72 7.72c-.78.78-.78 2.05 0 2.83L4 21.41c.39.39.9.59 1.41.59.51 0 1.02-.2 1.41-.59l7.78-7.78 2.81-2.81c.8-.78.8-2.07 0-2.86zM5.41 20L4 18.59l7.72-7.72 1.47 1.35L5.41 20z\"/>\n",
              "  </svg>\n",
              "      </button>\n",
              "      \n",
              "  <style>\n",
              "    .colab-df-container {\n",
              "      display:flex;\n",
              "      flex-wrap:wrap;\n",
              "      gap: 12px;\n",
              "    }\n",
              "\n",
              "    .colab-df-convert {\n",
              "      background-color: #E8F0FE;\n",
              "      border: none;\n",
              "      border-radius: 50%;\n",
              "      cursor: pointer;\n",
              "      display: none;\n",
              "      fill: #1967D2;\n",
              "      height: 32px;\n",
              "      padding: 0 0 0 0;\n",
              "      width: 32px;\n",
              "    }\n",
              "\n",
              "    .colab-df-convert:hover {\n",
              "      background-color: #E2EBFA;\n",
              "      box-shadow: 0px 1px 2px rgba(60, 64, 67, 0.3), 0px 1px 3px 1px rgba(60, 64, 67, 0.15);\n",
              "      fill: #174EA6;\n",
              "    }\n",
              "\n",
              "    [theme=dark] .colab-df-convert {\n",
              "      background-color: #3B4455;\n",
              "      fill: #D2E3FC;\n",
              "    }\n",
              "\n",
              "    [theme=dark] .colab-df-convert:hover {\n",
              "      background-color: #434B5C;\n",
              "      box-shadow: 0px 1px 3px 1px rgba(0, 0, 0, 0.15);\n",
              "      filter: drop-shadow(0px 1px 2px rgba(0, 0, 0, 0.3));\n",
              "      fill: #FFFFFF;\n",
              "    }\n",
              "  </style>\n",
              "\n",
              "      <script>\n",
              "        const buttonEl =\n",
              "          document.querySelector('#df-78e94772-ef00-46cc-8b31-9fca1025637f button.colab-df-convert');\n",
              "        buttonEl.style.display =\n",
              "          google.colab.kernel.accessAllowed ? 'block' : 'none';\n",
              "\n",
              "        async function convertToInteractive(key) {\n",
              "          const element = document.querySelector('#df-78e94772-ef00-46cc-8b31-9fca1025637f');\n",
              "          const dataTable =\n",
              "            await google.colab.kernel.invokeFunction('convertToInteractive',\n",
              "                                                     [key], {});\n",
              "          if (!dataTable) return;\n",
              "\n",
              "          const docLinkHtml = 'Like what you see? Visit the ' +\n",
              "            '<a target=\"_blank\" href=https://colab.research.google.com/notebooks/data_table.ipynb>data table notebook</a>'\n",
              "            + ' to learn more about interactive tables.';\n",
              "          element.innerHTML = '';\n",
              "          dataTable['output_type'] = 'display_data';\n",
              "          await google.colab.output.renderOutput(dataTable, element);\n",
              "          const docLink = document.createElement('div');\n",
              "          docLink.innerHTML = docLinkHtml;\n",
              "          element.appendChild(docLink);\n",
              "        }\n",
              "      </script>\n",
              "    </div>\n",
              "  </div>\n",
              "  "
            ],
            "text/plain": [
              "  Country name  year  ...  Positive affect  Negative affect\n",
              "0  Afghanistan  2008  ...            0.518            0.258\n",
              "1  Afghanistan  2009  ...            0.584            0.237\n",
              "2  Afghanistan  2010  ...            0.618            0.275\n",
              "3  Afghanistan  2011  ...            0.611            0.267\n",
              "4  Afghanistan  2012  ...            0.710            0.268\n",
              "5  Afghanistan  2013  ...            0.621            0.273\n",
              "6  Afghanistan  2014  ...            0.532            0.375\n",
              "7  Afghanistan  2015  ...            0.554            0.339\n",
              "8  Afghanistan  2016  ...            0.565            0.348\n",
              "9  Afghanistan  2017  ...            0.496            0.371\n",
              "\n",
              "[10 rows x 11 columns]"
            ]
          },
          "metadata": {},
          "execution_count": 5
        }
      ]
    },
    {
      "cell_type": "code",
      "source": [
        "d3=pd.read_csv('2017.csv')"
      ],
      "metadata": {
        "id": "RzuldvuUYHkk"
      },
      "execution_count": null,
      "outputs": []
    },
    {
      "cell_type": "code",
      "source": [
        "d2=pd.read_csv('2018.csv')"
      ],
      "metadata": {
        "id": "RXsOMAm8XbSI"
      },
      "execution_count": null,
      "outputs": []
    },
    {
      "cell_type": "code",
      "source": [
        "d2.columns"
      ],
      "metadata": {
        "colab": {
          "base_uri": "https://localhost:8080/"
        },
        "id": "gT_fT-JHXqgo",
        "outputId": "0b9c537a-7f1b-45ed-d742-eea6f717c017"
      },
      "execution_count": null,
      "outputs": [
        {
          "output_type": "execute_result",
          "data": {
            "text/plain": [
              "Index(['Overall rank', 'Country or region', 'Score', 'GDP per capita',\n",
              "       'Social support', 'Healthy life expectancy',\n",
              "       'Freedom to make life choices', 'Generosity',\n",
              "       'Perceptions of corruption'],\n",
              "      dtype='object')"
            ]
          },
          "metadata": {},
          "execution_count": 7
        }
      ]
    },
    {
      "cell_type": "code",
      "source": [
        "x=d2[d2['Country or region']=='Turkey']"
      ],
      "metadata": {
        "id": "VgCwRVhbXg16"
      },
      "execution_count": null,
      "outputs": []
    },
    {
      "cell_type": "code",
      "source": [
        "d3.columns"
      ],
      "metadata": {
        "colab": {
          "base_uri": "https://localhost:8080/"
        },
        "id": "NFOkb8xvYPlD",
        "outputId": "b4e629a4-de30-45fe-b8d7-84a1c2c8a294"
      },
      "execution_count": null,
      "outputs": [
        {
          "output_type": "execute_result",
          "data": {
            "text/plain": [
              "Index(['Country', 'Happiness.Rank', 'Happiness.Score', 'Whisker.high',\n",
              "       'Whisker.low', 'Economy..GDP.per.Capita.', 'Family',\n",
              "       'Health..Life.Expectancy.', 'Freedom', 'Generosity',\n",
              "       'Trust..Government.Corruption.', 'Dystopia.Residual'],\n",
              "      dtype='object')"
            ]
          },
          "metadata": {},
          "execution_count": 13
        }
      ]
    },
    {
      "cell_type": "code",
      "source": [
        "y=d3[d3['Country']=='Turkey']"
      ],
      "metadata": {
        "id": "nS7PojEUYKJs"
      },
      "execution_count": null,
      "outputs": []
    },
    {
      "cell_type": "code",
      "source": [
        "y.head()"
      ],
      "metadata": {
        "id": "SfmqgKuhYTbb",
        "outputId": "f5821c4c-26b0-44b0-d3de-e84f81e55688",
        "colab": {
          "base_uri": "https://localhost:8080/",
          "height": 145
        }
      },
      "execution_count": null,
      "outputs": [
        {
          "output_type": "execute_result",
          "data": {
            "text/html": [
              "\n",
              "  <div id=\"df-1db3fa35-1514-42fc-9f8f-3a48bd1b15fb\">\n",
              "    <div class=\"colab-df-container\">\n",
              "      <div>\n",
              "<style scoped>\n",
              "    .dataframe tbody tr th:only-of-type {\n",
              "        vertical-align: middle;\n",
              "    }\n",
              "\n",
              "    .dataframe tbody tr th {\n",
              "        vertical-align: top;\n",
              "    }\n",
              "\n",
              "    .dataframe thead th {\n",
              "        text-align: right;\n",
              "    }\n",
              "</style>\n",
              "<table border=\"1\" class=\"dataframe\">\n",
              "  <thead>\n",
              "    <tr style=\"text-align: right;\">\n",
              "      <th></th>\n",
              "      <th>Country</th>\n",
              "      <th>Happiness.Rank</th>\n",
              "      <th>Happiness.Score</th>\n",
              "      <th>Whisker.high</th>\n",
              "      <th>Whisker.low</th>\n",
              "      <th>Economy..GDP.per.Capita.</th>\n",
              "      <th>Family</th>\n",
              "      <th>Health..Life.Expectancy.</th>\n",
              "      <th>Freedom</th>\n",
              "      <th>Generosity</th>\n",
              "      <th>Trust..Government.Corruption.</th>\n",
              "      <th>Dystopia.Residual</th>\n",
              "    </tr>\n",
              "  </thead>\n",
              "  <tbody>\n",
              "    <tr>\n",
              "      <th>68</th>\n",
              "      <td>Turkey</td>\n",
              "      <td>69</td>\n",
              "      <td>5.5</td>\n",
              "      <td>5.594865</td>\n",
              "      <td>5.405135</td>\n",
              "      <td>1.198274</td>\n",
              "      <td>1.337753</td>\n",
              "      <td>0.637606</td>\n",
              "      <td>0.300741</td>\n",
              "      <td>0.046693</td>\n",
              "      <td>0.099672</td>\n",
              "      <td>1.879278</td>\n",
              "    </tr>\n",
              "  </tbody>\n",
              "</table>\n",
              "</div>\n",
              "      <button class=\"colab-df-convert\" onclick=\"convertToInteractive('df-1db3fa35-1514-42fc-9f8f-3a48bd1b15fb')\"\n",
              "              title=\"Convert this dataframe to an interactive table.\"\n",
              "              style=\"display:none;\">\n",
              "        \n",
              "  <svg xmlns=\"http://www.w3.org/2000/svg\" height=\"24px\"viewBox=\"0 0 24 24\"\n",
              "       width=\"24px\">\n",
              "    <path d=\"M0 0h24v24H0V0z\" fill=\"none\"/>\n",
              "    <path d=\"M18.56 5.44l.94 2.06.94-2.06 2.06-.94-2.06-.94-.94-2.06-.94 2.06-2.06.94zm-11 1L8.5 8.5l.94-2.06 2.06-.94-2.06-.94L8.5 2.5l-.94 2.06-2.06.94zm10 10l.94 2.06.94-2.06 2.06-.94-2.06-.94-.94-2.06-.94 2.06-2.06.94z\"/><path d=\"M17.41 7.96l-1.37-1.37c-.4-.4-.92-.59-1.43-.59-.52 0-1.04.2-1.43.59L10.3 9.45l-7.72 7.72c-.78.78-.78 2.05 0 2.83L4 21.41c.39.39.9.59 1.41.59.51 0 1.02-.2 1.41-.59l7.78-7.78 2.81-2.81c.8-.78.8-2.07 0-2.86zM5.41 20L4 18.59l7.72-7.72 1.47 1.35L5.41 20z\"/>\n",
              "  </svg>\n",
              "      </button>\n",
              "      \n",
              "  <style>\n",
              "    .colab-df-container {\n",
              "      display:flex;\n",
              "      flex-wrap:wrap;\n",
              "      gap: 12px;\n",
              "    }\n",
              "\n",
              "    .colab-df-convert {\n",
              "      background-color: #E8F0FE;\n",
              "      border: none;\n",
              "      border-radius: 50%;\n",
              "      cursor: pointer;\n",
              "      display: none;\n",
              "      fill: #1967D2;\n",
              "      height: 32px;\n",
              "      padding: 0 0 0 0;\n",
              "      width: 32px;\n",
              "    }\n",
              "\n",
              "    .colab-df-convert:hover {\n",
              "      background-color: #E2EBFA;\n",
              "      box-shadow: 0px 1px 2px rgba(60, 64, 67, 0.3), 0px 1px 3px 1px rgba(60, 64, 67, 0.15);\n",
              "      fill: #174EA6;\n",
              "    }\n",
              "\n",
              "    [theme=dark] .colab-df-convert {\n",
              "      background-color: #3B4455;\n",
              "      fill: #D2E3FC;\n",
              "    }\n",
              "\n",
              "    [theme=dark] .colab-df-convert:hover {\n",
              "      background-color: #434B5C;\n",
              "      box-shadow: 0px 1px 3px 1px rgba(0, 0, 0, 0.15);\n",
              "      filter: drop-shadow(0px 1px 2px rgba(0, 0, 0, 0.3));\n",
              "      fill: #FFFFFF;\n",
              "    }\n",
              "  </style>\n",
              "\n",
              "      <script>\n",
              "        const buttonEl =\n",
              "          document.querySelector('#df-1db3fa35-1514-42fc-9f8f-3a48bd1b15fb button.colab-df-convert');\n",
              "        buttonEl.style.display =\n",
              "          google.colab.kernel.accessAllowed ? 'block' : 'none';\n",
              "\n",
              "        async function convertToInteractive(key) {\n",
              "          const element = document.querySelector('#df-1db3fa35-1514-42fc-9f8f-3a48bd1b15fb');\n",
              "          const dataTable =\n",
              "            await google.colab.kernel.invokeFunction('convertToInteractive',\n",
              "                                                     [key], {});\n",
              "          if (!dataTable) return;\n",
              "\n",
              "          const docLinkHtml = 'Like what you see? Visit the ' +\n",
              "            '<a target=\"_blank\" href=https://colab.research.google.com/notebooks/data_table.ipynb>data table notebook</a>'\n",
              "            + ' to learn more about interactive tables.';\n",
              "          element.innerHTML = '';\n",
              "          dataTable['output_type'] = 'display_data';\n",
              "          await google.colab.output.renderOutput(dataTable, element);\n",
              "          const docLink = document.createElement('div');\n",
              "          docLink.innerHTML = docLinkHtml;\n",
              "          element.appendChild(docLink);\n",
              "        }\n",
              "      </script>\n",
              "    </div>\n",
              "  </div>\n",
              "  "
            ],
            "text/plain": [
              "   Country  Happiness.Rank  ...  Trust..Government.Corruption.  Dystopia.Residual\n",
              "68  Turkey              69  ...                       0.099672           1.879278\n",
              "\n",
              "[1 rows x 12 columns]"
            ]
          },
          "metadata": {},
          "execution_count": 15
        }
      ]
    },
    {
      "cell_type": "code",
      "source": [
        "d1=pd.read_csv('2015.csv')"
      ],
      "metadata": {
        "id": "eZu-VBzqHB1h"
      },
      "execution_count": null,
      "outputs": []
    },
    {
      "cell_type": "code",
      "source": [
        "x.head()"
      ],
      "metadata": {
        "colab": {
          "base_uri": "https://localhost:8080/",
          "height": 142
        },
        "id": "skKhFp3JXvHQ",
        "outputId": "646e0a2f-62ab-47cf-ff9c-4489ce83a458"
      },
      "execution_count": null,
      "outputs": [
        {
          "output_type": "execute_result",
          "data": {
            "text/html": [
              "\n",
              "  <div id=\"df-316ae27f-c33a-4eef-bc0b-b538a7cca2e3\">\n",
              "    <div class=\"colab-df-container\">\n",
              "      <div>\n",
              "<style scoped>\n",
              "    .dataframe tbody tr th:only-of-type {\n",
              "        vertical-align: middle;\n",
              "    }\n",
              "\n",
              "    .dataframe tbody tr th {\n",
              "        vertical-align: top;\n",
              "    }\n",
              "\n",
              "    .dataframe thead th {\n",
              "        text-align: right;\n",
              "    }\n",
              "</style>\n",
              "<table border=\"1\" class=\"dataframe\">\n",
              "  <thead>\n",
              "    <tr style=\"text-align: right;\">\n",
              "      <th></th>\n",
              "      <th>Overall rank</th>\n",
              "      <th>Country or region</th>\n",
              "      <th>Score</th>\n",
              "      <th>GDP per capita</th>\n",
              "      <th>Social support</th>\n",
              "      <th>Healthy life expectancy</th>\n",
              "      <th>Freedom to make life choices</th>\n",
              "      <th>Generosity</th>\n",
              "      <th>Perceptions of corruption</th>\n",
              "    </tr>\n",
              "  </thead>\n",
              "  <tbody>\n",
              "    <tr>\n",
              "      <th>73</th>\n",
              "      <td>74</td>\n",
              "      <td>Turkey</td>\n",
              "      <td>5.483</td>\n",
              "      <td>1.148</td>\n",
              "      <td>1.38</td>\n",
              "      <td>0.686</td>\n",
              "      <td>0.324</td>\n",
              "      <td>0.106</td>\n",
              "      <td>0.109</td>\n",
              "    </tr>\n",
              "  </tbody>\n",
              "</table>\n",
              "</div>\n",
              "      <button class=\"colab-df-convert\" onclick=\"convertToInteractive('df-316ae27f-c33a-4eef-bc0b-b538a7cca2e3')\"\n",
              "              title=\"Convert this dataframe to an interactive table.\"\n",
              "              style=\"display:none;\">\n",
              "        \n",
              "  <svg xmlns=\"http://www.w3.org/2000/svg\" height=\"24px\"viewBox=\"0 0 24 24\"\n",
              "       width=\"24px\">\n",
              "    <path d=\"M0 0h24v24H0V0z\" fill=\"none\"/>\n",
              "    <path d=\"M18.56 5.44l.94 2.06.94-2.06 2.06-.94-2.06-.94-.94-2.06-.94 2.06-2.06.94zm-11 1L8.5 8.5l.94-2.06 2.06-.94-2.06-.94L8.5 2.5l-.94 2.06-2.06.94zm10 10l.94 2.06.94-2.06 2.06-.94-2.06-.94-.94-2.06-.94 2.06-2.06.94z\"/><path d=\"M17.41 7.96l-1.37-1.37c-.4-.4-.92-.59-1.43-.59-.52 0-1.04.2-1.43.59L10.3 9.45l-7.72 7.72c-.78.78-.78 2.05 0 2.83L4 21.41c.39.39.9.59 1.41.59.51 0 1.02-.2 1.41-.59l7.78-7.78 2.81-2.81c.8-.78.8-2.07 0-2.86zM5.41 20L4 18.59l7.72-7.72 1.47 1.35L5.41 20z\"/>\n",
              "  </svg>\n",
              "      </button>\n",
              "      \n",
              "  <style>\n",
              "    .colab-df-container {\n",
              "      display:flex;\n",
              "      flex-wrap:wrap;\n",
              "      gap: 12px;\n",
              "    }\n",
              "\n",
              "    .colab-df-convert {\n",
              "      background-color: #E8F0FE;\n",
              "      border: none;\n",
              "      border-radius: 50%;\n",
              "      cursor: pointer;\n",
              "      display: none;\n",
              "      fill: #1967D2;\n",
              "      height: 32px;\n",
              "      padding: 0 0 0 0;\n",
              "      width: 32px;\n",
              "    }\n",
              "\n",
              "    .colab-df-convert:hover {\n",
              "      background-color: #E2EBFA;\n",
              "      box-shadow: 0px 1px 2px rgba(60, 64, 67, 0.3), 0px 1px 3px 1px rgba(60, 64, 67, 0.15);\n",
              "      fill: #174EA6;\n",
              "    }\n",
              "\n",
              "    [theme=dark] .colab-df-convert {\n",
              "      background-color: #3B4455;\n",
              "      fill: #D2E3FC;\n",
              "    }\n",
              "\n",
              "    [theme=dark] .colab-df-convert:hover {\n",
              "      background-color: #434B5C;\n",
              "      box-shadow: 0px 1px 3px 1px rgba(0, 0, 0, 0.15);\n",
              "      filter: drop-shadow(0px 1px 2px rgba(0, 0, 0, 0.3));\n",
              "      fill: #FFFFFF;\n",
              "    }\n",
              "  </style>\n",
              "\n",
              "      <script>\n",
              "        const buttonEl =\n",
              "          document.querySelector('#df-316ae27f-c33a-4eef-bc0b-b538a7cca2e3 button.colab-df-convert');\n",
              "        buttonEl.style.display =\n",
              "          google.colab.kernel.accessAllowed ? 'block' : 'none';\n",
              "\n",
              "        async function convertToInteractive(key) {\n",
              "          const element = document.querySelector('#df-316ae27f-c33a-4eef-bc0b-b538a7cca2e3');\n",
              "          const dataTable =\n",
              "            await google.colab.kernel.invokeFunction('convertToInteractive',\n",
              "                                                     [key], {});\n",
              "          if (!dataTable) return;\n",
              "\n",
              "          const docLinkHtml = 'Like what you see? Visit the ' +\n",
              "            '<a target=\"_blank\" href=https://colab.research.google.com/notebooks/data_table.ipynb>data table notebook</a>'\n",
              "            + ' to learn more about interactive tables.';\n",
              "          element.innerHTML = '';\n",
              "          dataTable['output_type'] = 'display_data';\n",
              "          await google.colab.output.renderOutput(dataTable, element);\n",
              "          const docLink = document.createElement('div');\n",
              "          docLink.innerHTML = docLinkHtml;\n",
              "          element.appendChild(docLink);\n",
              "        }\n",
              "      </script>\n",
              "    </div>\n",
              "  </div>\n",
              "  "
            ],
            "text/plain": [
              "    Overall rank Country or region  ...  Generosity  Perceptions of corruption\n",
              "73            74            Turkey  ...       0.106                      0.109\n",
              "\n",
              "[1 rows x 9 columns]"
            ]
          },
          "metadata": {},
          "execution_count": 10
        }
      ]
    },
    {
      "cell_type": "code",
      "source": [
        "f,ax = plt.subplots(figsize=(15, 15))\n",
        "sns.heatmap(d1.corr(), annot=True, linewidths=.7, fmt= '.2f',ax=ax)\n",
        "plt.show()"
      ],
      "metadata": {
        "colab": {
          "base_uri": "https://localhost:8080/",
          "height": 1000
        },
        "id": "_QKkyM-QHIBi",
        "outputId": "97a17268-ca43-49f8-f002-5794e3279089"
      },
      "execution_count": null,
      "outputs": [
        {
          "output_type": "display_data",
          "data": {
            "image/png": "[encoded data removed]",
            "text/plain": [
              "<Figure size 1080x1080 with 2 Axes>"
            ]
          },
          "metadata": {
            "needs_background": "light"
          }
        }
      ]
    },
    {
      "cell_type": "code",
      "metadata": {
        "id": "Ph6KcdVWx4Qq"
      },
      "source": [
        "data1 = pd.read_csv('2005.csv')\n",
        "\n",
        "\n"
      ],
      "execution_count": null,
      "outputs": []
    },
    {
      "cell_type": "code",
      "source": [
        "data1.head()"
      ],
      "metadata": {
        "colab": {
          "base_uri": "https://localhost:8080/",
          "height": 268
        },
        "id": "_6XOkA3cMvUw",
        "outputId": "e402fc56-a13e-4c39-b084-adf8f1fe31a6"
      },
      "execution_count": null,
      "outputs": [
        {
          "output_type": "execute_result",
          "data": {
            "text/html": [
              "\n",
              "  <div id=\"df-7238b3ad-a8cf-428b-876a-de4fb629b77a\">\n",
              "    <div class=\"colab-df-container\">\n",
              "      <div>\n",
              "<style scoped>\n",
              "    .dataframe tbody tr th:only-of-type {\n",
              "        vertical-align: middle;\n",
              "    }\n",
              "\n",
              "    .dataframe tbody tr th {\n",
              "        vertical-align: top;\n",
              "    }\n",
              "\n",
              "    .dataframe thead th {\n",
              "        text-align: right;\n",
              "    }\n",
              "</style>\n",
              "<table border=\"1\" class=\"dataframe\">\n",
              "  <thead>\n",
              "    <tr style=\"text-align: right;\">\n",
              "      <th></th>\n",
              "      <th>Country name</th>\n",
              "      <th>year</th>\n",
              "      <th>Life Ladder</th>\n",
              "      <th>Log GDP per capita</th>\n",
              "      <th>Social support</th>\n",
              "      <th>Healthy life expectancy at birth</th>\n",
              "      <th>Freedom to make life choices</th>\n",
              "      <th>Generosity</th>\n",
              "      <th>Perceptions of corruption</th>\n",
              "      <th>Positive affect</th>\n",
              "      <th>Negative affect</th>\n",
              "    </tr>\n",
              "  </thead>\n",
              "  <tbody>\n",
              "    <tr>\n",
              "      <th>0</th>\n",
              "      <td>Afghanistan</td>\n",
              "      <td>2008</td>\n",
              "      <td>3.724</td>\n",
              "      <td>7.370</td>\n",
              "      <td>0.451</td>\n",
              "      <td>50.80</td>\n",
              "      <td>0.718</td>\n",
              "      <td>0.168</td>\n",
              "      <td>0.882</td>\n",
              "      <td>0.518</td>\n",
              "      <td>0.258</td>\n",
              "    </tr>\n",
              "    <tr>\n",
              "      <th>1</th>\n",
              "      <td>Afghanistan</td>\n",
              "      <td>2009</td>\n",
              "      <td>4.402</td>\n",
              "      <td>7.540</td>\n",
              "      <td>0.552</td>\n",
              "      <td>51.20</td>\n",
              "      <td>0.679</td>\n",
              "      <td>0.190</td>\n",
              "      <td>0.850</td>\n",
              "      <td>0.584</td>\n",
              "      <td>0.237</td>\n",
              "    </tr>\n",
              "    <tr>\n",
              "      <th>2</th>\n",
              "      <td>Afghanistan</td>\n",
              "      <td>2010</td>\n",
              "      <td>4.758</td>\n",
              "      <td>7.647</td>\n",
              "      <td>0.539</td>\n",
              "      <td>51.60</td>\n",
              "      <td>0.600</td>\n",
              "      <td>0.121</td>\n",
              "      <td>0.707</td>\n",
              "      <td>0.618</td>\n",
              "      <td>0.275</td>\n",
              "    </tr>\n",
              "    <tr>\n",
              "      <th>3</th>\n",
              "      <td>Afghanistan</td>\n",
              "      <td>2011</td>\n",
              "      <td>3.832</td>\n",
              "      <td>7.620</td>\n",
              "      <td>0.521</td>\n",
              "      <td>51.92</td>\n",
              "      <td>0.496</td>\n",
              "      <td>0.162</td>\n",
              "      <td>0.731</td>\n",
              "      <td>0.611</td>\n",
              "      <td>0.267</td>\n",
              "    </tr>\n",
              "    <tr>\n",
              "      <th>4</th>\n",
              "      <td>Afghanistan</td>\n",
              "      <td>2012</td>\n",
              "      <td>3.783</td>\n",
              "      <td>7.705</td>\n",
              "      <td>0.521</td>\n",
              "      <td>52.24</td>\n",
              "      <td>0.531</td>\n",
              "      <td>0.236</td>\n",
              "      <td>0.776</td>\n",
              "      <td>0.710</td>\n",
              "      <td>0.268</td>\n",
              "    </tr>\n",
              "  </tbody>\n",
              "</table>\n",
              "</div>\n",
              "      <button class=\"colab-df-convert\" onclick=\"convertToInteractive('df-7238b3ad-a8cf-428b-876a-de4fb629b77a')\"\n",
              "              title=\"Convert this dataframe to an interactive table.\"\n",
              "              style=\"display:none;\">\n",
              "        \n",
              "  <svg xmlns=\"http://www.w3.org/2000/svg\" height=\"24px\"viewBox=\"0 0 24 24\"\n",
              "       width=\"24px\">\n",
              "    <path d=\"M0 0h24v24H0V0z\" fill=\"none\"/>\n",
              "    <path d=\"M18.56 5.44l.94 2.06.94-2.06 2.06-.94-2.06-.94-.94-2.06-.94 2.06-2.06.94zm-11 1L8.5 8.5l.94-2.06 2.06-.94-2.06-.94L8.5 2.5l-.94 2.06-2.06.94zm10 10l.94 2.06.94-2.06 2.06-.94-2.06-.94-.94-2.06-.94 2.06-2.06.94z\"/><path d=\"M17.41 7.96l-1.37-1.37c-.4-.4-.92-.59-1.43-.59-.52 0-1.04.2-1.43.59L10.3 9.45l-7.72 7.72c-.78.78-.78 2.05 0 2.83L4 21.41c.39.39.9.59 1.41.59.51 0 1.02-.2 1.41-.59l7.78-7.78 2.81-2.81c.8-.78.8-2.07 0-2.86zM5.41 20L4 18.59l7.72-7.72 1.47 1.35L5.41 20z\"/>\n",
              "  </svg>\n",
              "      </button>\n",
              "      \n",
              "  <style>\n",
              "    .colab-df-container {\n",
              "      display:flex;\n",
              "      flex-wrap:wrap;\n",
              "      gap: 12px;\n",
              "    }\n",
              "\n",
              "    .colab-df-convert {\n",
              "      background-color: #E8F0FE;\n",
              "      border: none;\n",
              "      border-radius: 50%;\n",
              "      cursor: pointer;\n",
              "      display: none;\n",
              "      fill: #1967D2;\n",
              "      height: 32px;\n",
              "      padding: 0 0 0 0;\n",
              "      width: 32px;\n",
              "    }\n",
              "\n",
              "    .colab-df-convert:hover {\n",
              "      background-color: #E2EBFA;\n",
              "      box-shadow: 0px 1px 2px rgba(60, 64, 67, 0.3), 0px 1px 3px 1px rgba(60, 64, 67, 0.15);\n",
              "      fill: #174EA6;\n",
              "    }\n",
              "\n",
              "    [theme=dark] .colab-df-convert {\n",
              "      background-color: #3B4455;\n",
              "      fill: #D2E3FC;\n",
              "    }\n",
              "\n",
              "    [theme=dark] .colab-df-convert:hover {\n",
              "      background-color: #434B5C;\n",
              "      box-shadow: 0px 1px 3px 1px rgba(0, 0, 0, 0.15);\n",
              "      filter: drop-shadow(0px 1px 2px rgba(0, 0, 0, 0.3));\n",
              "      fill: #FFFFFF;\n",
              "    }\n",
              "  </style>\n",
              "\n",
              "      <script>\n",
              "        const buttonEl =\n",
              "          document.querySelector('#df-7238b3ad-a8cf-428b-876a-de4fb629b77a button.colab-df-convert');\n",
              "        buttonEl.style.display =\n",
              "          google.colab.kernel.accessAllowed ? 'block' : 'none';\n",
              "\n",
              "        async function convertToInteractive(key) {\n",
              "          const element = document.querySelector('#df-7238b3ad-a8cf-428b-876a-de4fb629b77a');\n",
              "          const dataTable =\n",
              "            await google.colab.kernel.invokeFunction('convertToInteractive',\n",
              "                                                     [key], {});\n",
              "          if (!dataTable) return;\n",
              "\n",
              "          const docLinkHtml = 'Like what you see? Visit the ' +\n",
              "            '<a target=\"_blank\" href=https://colab.research.google.com/notebooks/data_table.ipynb>data table notebook</a>'\n",
              "            + ' to learn more about interactive tables.';\n",
              "          element.innerHTML = '';\n",
              "          dataTable['output_type'] = 'display_data';\n",
              "          await google.colab.output.renderOutput(dataTable, element);\n",
              "          const docLink = document.createElement('div');\n",
              "          docLink.innerHTML = docLinkHtml;\n",
              "          element.appendChild(docLink);\n",
              "        }\n",
              "      </script>\n",
              "    </div>\n",
              "  </div>\n",
              "  "
            ],
            "text/plain": [
              "  Country name  year  ...  Positive affect  Negative affect\n",
              "0  Afghanistan  2008  ...            0.518            0.258\n",
              "1  Afghanistan  2009  ...            0.584            0.237\n",
              "2  Afghanistan  2010  ...            0.618            0.275\n",
              "3  Afghanistan  2011  ...            0.611            0.267\n",
              "4  Afghanistan  2012  ...            0.710            0.268\n",
              "\n",
              "[5 rows x 11 columns]"
            ]
          },
          "metadata": {},
          "execution_count": 4
        }
      ]
    },
    {
      "cell_type": "markdown",
      "metadata": {
        "id": "qBzf9gVs9yUe"
      },
      "source": [
        "#BENZER SÜTUN İSİMLERİ İLE DEĞİŞTİRME "
      ]
    },
    {
      "cell_type": "code",
      "metadata": {
        "id": "J4b2IP8p5j4x"
      },
      "source": [
        "\n",
        "data1.rename(columns={'Country name': 'country', \n",
        "                    \n",
        "                   'Life Ladder':'hapiness_score',\n",
        "                    \n",
        "                   'Log GDP per capita' :'economy', \n",
        "                   'Social support': 'social_support',\n",
        "                   'Healthy life expectancy at birth':'healthy_life',\n",
        "                   'Freedom to make life choices':'freedom',\n",
        "                   'Generosity':'generosity',\n",
        "                   'Perceptions of corruption':'corruption',\n",
        "                   \n",
        "                   \n",
        "                  }, inplace=True)"
      ],
      "execution_count": null,
      "outputs": []
    },
    {
      "cell_type": "code",
      "source": [
        "data1.columns"
      ],
      "metadata": {
        "colab": {
          "base_uri": "https://localhost:8080/"
        },
        "id": "rDGwMUyGLdUn",
        "outputId": "a7faf676-c1ad-4886-ced4-ef6273a4dada"
      },
      "execution_count": null,
      "outputs": [
        {
          "output_type": "execute_result",
          "data": {
            "text/plain": [
              "Index(['country', 'year', 'hapiness_score', 'economy', 'social_support',\n",
              "       'healthy_life', 'freedom', 'generosity', 'corruption',\n",
              "       'Positive affect', 'Negative affect'],\n",
              "      dtype='object')"
            ]
          },
          "metadata": {},
          "execution_count": 26
        }
      ]
    },
    {
      "cell_type": "code",
      "source": [
        "data1.sort_values('hapiness_score' ,ascending=False)"
      ],
      "metadata": {
        "colab": {
          "base_uri": "https://localhost:8080/",
          "height": 424
        },
        "id": "dIgKxxP2MB-9",
        "outputId": "e7e271cc-6975-4c31-e423-f463f5f67998"
      },
      "execution_count": null,
      "outputs": [
        {
          "output_type": "execute_result",
          "data": {
            "text/html": [
              "\n",
              "  <div id=\"df-a8994777-e82d-49ce-bd99-760d964cc1f1\">\n",
              "    <div class=\"colab-df-container\">\n",
              "      <div>\n",
              "<style scoped>\n",
              "    .dataframe tbody tr th:only-of-type {\n",
              "        vertical-align: middle;\n",
              "    }\n",
              "\n",
              "    .dataframe tbody tr th {\n",
              "        vertical-align: top;\n",
              "    }\n",
              "\n",
              "    .dataframe thead th {\n",
              "        text-align: right;\n",
              "    }\n",
              "</style>\n",
              "<table border=\"1\" class=\"dataframe\">\n",
              "  <thead>\n",
              "    <tr style=\"text-align: right;\">\n",
              "      <th></th>\n",
              "      <th>country</th>\n",
              "      <th>year</th>\n",
              "      <th>hapiness_score</th>\n",
              "      <th>economy</th>\n",
              "      <th>social_support</th>\n",
              "      <th>healthy_life</th>\n",
              "      <th>freedom</th>\n",
              "      <th>generosity</th>\n",
              "      <th>corruption</th>\n",
              "      <th>Positive affect</th>\n",
              "      <th>Negative affect</th>\n",
              "    </tr>\n",
              "  </thead>\n",
              "  <tbody>\n",
              "    <tr>\n",
              "      <th>449</th>\n",
              "      <td>Denmark</td>\n",
              "      <td>2005</td>\n",
              "      <td>8.019</td>\n",
              "      <td>10.851</td>\n",
              "      <td>0.972</td>\n",
              "      <td>69.60</td>\n",
              "      <td>0.971</td>\n",
              "      <td>0.000103</td>\n",
              "      <td>0.237</td>\n",
              "      <td>0.860</td>\n",
              "      <td>0.154</td>\n",
              "    </tr>\n",
              "    <tr>\n",
              "      <th>451</th>\n",
              "      <td>Denmark</td>\n",
              "      <td>2008</td>\n",
              "      <td>7.971</td>\n",
              "      <td>10.880</td>\n",
              "      <td>0.954</td>\n",
              "      <td>70.08</td>\n",
              "      <td>0.970</td>\n",
              "      <td>0.272000</td>\n",
              "      <td>0.248</td>\n",
              "      <td>0.757</td>\n",
              "      <td>0.163</td>\n",
              "    </tr>\n",
              "    <tr>\n",
              "      <th>563</th>\n",
              "      <td>Finland</td>\n",
              "      <td>2020</td>\n",
              "      <td>7.889</td>\n",
              "      <td>10.750</td>\n",
              "      <td>0.962</td>\n",
              "      <td>72.10</td>\n",
              "      <td>0.962</td>\n",
              "      <td>-0.116000</td>\n",
              "      <td>0.164</td>\n",
              "      <td>0.744</td>\n",
              "      <td>0.193</td>\n",
              "    </tr>\n",
              "    <tr>\n",
              "      <th>561</th>\n",
              "      <td>Finland</td>\n",
              "      <td>2018</td>\n",
              "      <td>7.858</td>\n",
              "      <td>10.783</td>\n",
              "      <td>0.962</td>\n",
              "      <td>71.90</td>\n",
              "      <td>0.938</td>\n",
              "      <td>-0.127000</td>\n",
              "      <td>0.199</td>\n",
              "      <td>0.782</td>\n",
              "      <td>0.182</td>\n",
              "    </tr>\n",
              "    <tr>\n",
              "      <th>450</th>\n",
              "      <td>Denmark</td>\n",
              "      <td>2007</td>\n",
              "      <td>7.834</td>\n",
              "      <td>10.891</td>\n",
              "      <td>0.954</td>\n",
              "      <td>69.92</td>\n",
              "      <td>0.932</td>\n",
              "      <td>0.240000</td>\n",
              "      <td>0.206</td>\n",
              "      <td>0.828</td>\n",
              "      <td>0.194</td>\n",
              "    </tr>\n",
              "    <tr>\n",
              "      <th>...</th>\n",
              "      <td>...</td>\n",
              "      <td>...</td>\n",
              "      <td>...</td>\n",
              "      <td>...</td>\n",
              "      <td>...</td>\n",
              "      <td>...</td>\n",
              "      <td>...</td>\n",
              "      <td>...</td>\n",
              "      <td>...</td>\n",
              "      <td>...</td>\n",
              "      <td>...</td>\n",
              "    </tr>\n",
              "    <tr>\n",
              "      <th>1947</th>\n",
              "      <td>Zimbabwe</td>\n",
              "      <td>2019</td>\n",
              "      <td>2.694</td>\n",
              "      <td>7.950</td>\n",
              "      <td>0.759</td>\n",
              "      <td>56.20</td>\n",
              "      <td>0.632</td>\n",
              "      <td>-0.064000</td>\n",
              "      <td>0.831</td>\n",
              "      <td>0.716</td>\n",
              "      <td>0.235</td>\n",
              "    </tr>\n",
              "    <tr>\n",
              "      <th>311</th>\n",
              "      <td>Central African Republic</td>\n",
              "      <td>2016</td>\n",
              "      <td>2.693</td>\n",
              "      <td>6.785</td>\n",
              "      <td>0.290</td>\n",
              "      <td>44.90</td>\n",
              "      <td>0.624</td>\n",
              "      <td>0.033000</td>\n",
              "      <td>0.859</td>\n",
              "      <td>0.579</td>\n",
              "      <td>0.494</td>\n",
              "    </tr>\n",
              "    <tr>\n",
              "      <th>1667</th>\n",
              "      <td>Syria</td>\n",
              "      <td>2013</td>\n",
              "      <td>2.688</td>\n",
              "      <td>8.396</td>\n",
              "      <td>0.585</td>\n",
              "      <td>58.76</td>\n",
              "      <td>0.455</td>\n",
              "      <td>0.225000</td>\n",
              "      <td>0.663</td>\n",
              "      <td>0.387</td>\n",
              "      <td>0.622</td>\n",
              "    </tr>\n",
              "    <tr>\n",
              "      <th>9</th>\n",
              "      <td>Afghanistan</td>\n",
              "      <td>2017</td>\n",
              "      <td>2.662</td>\n",
              "      <td>7.697</td>\n",
              "      <td>0.491</td>\n",
              "      <td>52.80</td>\n",
              "      <td>0.427</td>\n",
              "      <td>-0.121000</td>\n",
              "      <td>0.954</td>\n",
              "      <td>0.496</td>\n",
              "      <td>0.371</td>\n",
              "    </tr>\n",
              "    <tr>\n",
              "      <th>11</th>\n",
              "      <td>Afghanistan</td>\n",
              "      <td>2019</td>\n",
              "      <td>2.375</td>\n",
              "      <td>7.697</td>\n",
              "      <td>0.420</td>\n",
              "      <td>52.40</td>\n",
              "      <td>0.394</td>\n",
              "      <td>-0.108000</td>\n",
              "      <td>0.924</td>\n",
              "      <td>0.351</td>\n",
              "      <td>0.502</td>\n",
              "    </tr>\n",
              "  </tbody>\n",
              "</table>\n",
              "<p>1949 rows × 11 columns</p>\n",
              "</div>\n",
              "      <button class=\"colab-df-convert\" onclick=\"convertToInteractive('df-a8994777-e82d-49ce-bd99-760d964cc1f1')\"\n",
              "              title=\"Convert this dataframe to an interactive table.\"\n",
              "              style=\"display:none;\">\n",
              "        \n",
              "  <svg xmlns=\"http://www.w3.org/2000/svg\" height=\"24px\"viewBox=\"0 0 24 24\"\n",
              "       width=\"24px\">\n",
              "    <path d=\"M0 0h24v24H0V0z\" fill=\"none\"/>\n",
              "    <path d=\"M18.56 5.44l.94 2.06.94-2.06 2.06-.94-2.06-.94-.94-2.06-.94 2.06-2.06.94zm-11 1L8.5 8.5l.94-2.06 2.06-.94-2.06-.94L8.5 2.5l-.94 2.06-2.06.94zm10 10l.94 2.06.94-2.06 2.06-.94-2.06-.94-.94-2.06-.94 2.06-2.06.94z\"/><path d=\"M17.41 7.96l-1.37-1.37c-.4-.4-.92-.59-1.43-.59-.52 0-1.04.2-1.43.59L10.3 9.45l-7.72 7.72c-.78.78-.78 2.05 0 2.83L4 21.41c.39.39.9.59 1.41.59.51 0 1.02-.2 1.41-.59l7.78-7.78 2.81-2.81c.8-.78.8-2.07 0-2.86zM5.41 20L4 18.59l7.72-7.72 1.47 1.35L5.41 20z\"/>\n",
              "  </svg>\n",
              "      </button>\n",
              "      \n",
              "  <style>\n",
              "    .colab-df-container {\n",
              "      display:flex;\n",
              "      flex-wrap:wrap;\n",
              "      gap: 12px;\n",
              "    }\n",
              "\n",
              "    .colab-df-convert {\n",
              "      background-color: #E8F0FE;\n",
              "      border: none;\n",
              "      border-radius: 50%;\n",
              "      cursor: pointer;\n",
              "      display: none;\n",
              "      fill: #1967D2;\n",
              "      height: 32px;\n",
              "      padding: 0 0 0 0;\n",
              "      width: 32px;\n",
              "    }\n",
              "\n",
              "    .colab-df-convert:hover {\n",
              "      background-color: #E2EBFA;\n",
              "      box-shadow: 0px 1px 2px rgba(60, 64, 67, 0.3), 0px 1px 3px 1px rgba(60, 64, 67, 0.15);\n",
              "      fill: #174EA6;\n",
              "    }\n",
              "\n",
              "    [theme=dark] .colab-df-convert {\n",
              "      background-color: #3B4455;\n",
              "      fill: #D2E3FC;\n",
              "    }\n",
              "\n",
              "    [theme=dark] .colab-df-convert:hover {\n",
              "      background-color: #434B5C;\n",
              "      box-shadow: 0px 1px 3px 1px rgba(0, 0, 0, 0.15);\n",
              "      filter: drop-shadow(0px 1px 2px rgba(0, 0, 0, 0.3));\n",
              "      fill: #FFFFFF;\n",
              "    }\n",
              "  </style>\n",
              "\n",
              "      <script>\n",
              "        const buttonEl =\n",
              "          document.querySelector('#df-a8994777-e82d-49ce-bd99-760d964cc1f1 button.colab-df-convert');\n",
              "        buttonEl.style.display =\n",
              "          google.colab.kernel.accessAllowed ? 'block' : 'none';\n",
              "\n",
              "        async function convertToInteractive(key) {\n",
              "          const element = document.querySelector('#df-a8994777-e82d-49ce-bd99-760d964cc1f1');\n",
              "          const dataTable =\n",
              "            await google.colab.kernel.invokeFunction('convertToInteractive',\n",
              "                                                     [key], {});\n",
              "          if (!dataTable) return;\n",
              "\n",
              "          const docLinkHtml = 'Like what you see? Visit the ' +\n",
              "            '<a target=\"_blank\" href=https://colab.research.google.com/notebooks/data_table.ipynb>data table notebook</a>'\n",
              "            + ' to learn more about interactive tables.';\n",
              "          element.innerHTML = '';\n",
              "          dataTable['output_type'] = 'display_data';\n",
              "          await google.colab.output.renderOutput(dataTable, element);\n",
              "          const docLink = document.createElement('div');\n",
              "          docLink.innerHTML = docLinkHtml;\n",
              "          element.appendChild(docLink);\n",
              "        }\n",
              "      </script>\n",
              "    </div>\n",
              "  </div>\n",
              "  "
            ],
            "text/plain": [
              "                       country  year  ...  Positive affect  Negative affect\n",
              "449                    Denmark  2005  ...            0.860            0.154\n",
              "451                    Denmark  2008  ...            0.757            0.163\n",
              "563                    Finland  2020  ...            0.744            0.193\n",
              "561                    Finland  2018  ...            0.782            0.182\n",
              "450                    Denmark  2007  ...            0.828            0.194\n",
              "...                        ...   ...  ...              ...              ...\n",
              "1947                  Zimbabwe  2019  ...            0.716            0.235\n",
              "311   Central African Republic  2016  ...            0.579            0.494\n",
              "1667                     Syria  2013  ...            0.387            0.622\n",
              "9                  Afghanistan  2017  ...            0.496            0.371\n",
              "11                 Afghanistan  2019  ...            0.351            0.502\n",
              "\n",
              "[1949 rows x 11 columns]"
            ]
          },
          "metadata": {},
          "execution_count": 32
        }
      ]
    },
    {
      "cell_type": "code",
      "source": [
        "print(data1.sort_values(ascending=False))"
      ],
      "metadata": {
        "colab": {
          "base_uri": "https://localhost:8080/",
          "height": 165
        },
        "id": "0xU0GPrFLUJB",
        "outputId": "82149445-e85e-44ad-ea51-375b573b74cb"
      },
      "execution_count": null,
      "outputs": [
        {
          "output_type": "error",
          "ename": "TypeError",
          "evalue": "ignored",
          "traceback": [
            "\u001b[0;31m---------------------------------------------------------------------------\u001b[0m",
            "\u001b[0;31mTypeError\u001b[0m                                 Traceback (most recent call last)",
            "\u001b[0;32m<ipython-input-28-b360dca71608>\u001b[0m in \u001b[0;36m<module>\u001b[0;34m()\u001b[0m\n\u001b[0;32m----> 1\u001b[0;31m \u001b[0mprint\u001b[0m\u001b[0;34m(\u001b[0m\u001b[0mdata1\u001b[0m\u001b[0;34m.\u001b[0m\u001b[0msort_values\u001b[0m\u001b[0;34m(\u001b[0m\u001b[0mascending\u001b[0m\u001b[0;34m=\u001b[0m\u001b[0;32mFalse\u001b[0m\u001b[0;34m)\u001b[0m\u001b[0;34m)\u001b[0m\u001b[0;34m\u001b[0m\u001b[0;34m\u001b[0m\u001b[0m\n\u001b[0m",
            "\u001b[0;31mTypeError\u001b[0m: sort_values() missing 1 required positional argument: 'by'"
          ]
        }
      ]
    },
    {
      "cell_type": "code",
      "source": [
        "data1.head()"
      ],
      "metadata": {
        "colab": {
          "base_uri": "https://localhost:8080/",
          "height": 206
        },
        "id": "tYiAuTUIKIk9",
        "outputId": "e2c70286-0641-4134-b0e4-49a8970eaeca"
      },
      "execution_count": null,
      "outputs": [
        {
          "output_type": "execute_result",
          "data": {
            "text/html": [
              "\n",
              "  <div id=\"df-1518c418-761b-463c-872c-465429c76001\">\n",
              "    <div class=\"colab-df-container\">\n",
              "      <div>\n",
              "<style scoped>\n",
              "    .dataframe tbody tr th:only-of-type {\n",
              "        vertical-align: middle;\n",
              "    }\n",
              "\n",
              "    .dataframe tbody tr th {\n",
              "        vertical-align: top;\n",
              "    }\n",
              "\n",
              "    .dataframe thead th {\n",
              "        text-align: right;\n",
              "    }\n",
              "</style>\n",
              "<table border=\"1\" class=\"dataframe\">\n",
              "  <thead>\n",
              "    <tr style=\"text-align: right;\">\n",
              "      <th></th>\n",
              "      <th>country</th>\n",
              "      <th>year</th>\n",
              "      <th>hapiness_score</th>\n",
              "      <th>economy</th>\n",
              "      <th>social_support</th>\n",
              "      <th>healthy_life</th>\n",
              "      <th>freedom</th>\n",
              "      <th>generosity</th>\n",
              "      <th>corruption</th>\n",
              "      <th>Positive affect</th>\n",
              "      <th>Negative affect</th>\n",
              "    </tr>\n",
              "  </thead>\n",
              "  <tbody>\n",
              "    <tr>\n",
              "      <th>0</th>\n",
              "      <td>Afghanistan</td>\n",
              "      <td>2008</td>\n",
              "      <td>3.724</td>\n",
              "      <td>7.370</td>\n",
              "      <td>0.451</td>\n",
              "      <td>50.80</td>\n",
              "      <td>0.718</td>\n",
              "      <td>0.168</td>\n",
              "      <td>0.882</td>\n",
              "      <td>0.518</td>\n",
              "      <td>0.258</td>\n",
              "    </tr>\n",
              "    <tr>\n",
              "      <th>1</th>\n",
              "      <td>Afghanistan</td>\n",
              "      <td>2009</td>\n",
              "      <td>4.402</td>\n",
              "      <td>7.540</td>\n",
              "      <td>0.552</td>\n",
              "      <td>51.20</td>\n",
              "      <td>0.679</td>\n",
              "      <td>0.190</td>\n",
              "      <td>0.850</td>\n",
              "      <td>0.584</td>\n",
              "      <td>0.237</td>\n",
              "    </tr>\n",
              "    <tr>\n",
              "      <th>2</th>\n",
              "      <td>Afghanistan</td>\n",
              "      <td>2010</td>\n",
              "      <td>4.758</td>\n",
              "      <td>7.647</td>\n",
              "      <td>0.539</td>\n",
              "      <td>51.60</td>\n",
              "      <td>0.600</td>\n",
              "      <td>0.121</td>\n",
              "      <td>0.707</td>\n",
              "      <td>0.618</td>\n",
              "      <td>0.275</td>\n",
              "    </tr>\n",
              "    <tr>\n",
              "      <th>3</th>\n",
              "      <td>Afghanistan</td>\n",
              "      <td>2011</td>\n",
              "      <td>3.832</td>\n",
              "      <td>7.620</td>\n",
              "      <td>0.521</td>\n",
              "      <td>51.92</td>\n",
              "      <td>0.496</td>\n",
              "      <td>0.162</td>\n",
              "      <td>0.731</td>\n",
              "      <td>0.611</td>\n",
              "      <td>0.267</td>\n",
              "    </tr>\n",
              "    <tr>\n",
              "      <th>4</th>\n",
              "      <td>Afghanistan</td>\n",
              "      <td>2012</td>\n",
              "      <td>3.783</td>\n",
              "      <td>7.705</td>\n",
              "      <td>0.521</td>\n",
              "      <td>52.24</td>\n",
              "      <td>0.531</td>\n",
              "      <td>0.236</td>\n",
              "      <td>0.776</td>\n",
              "      <td>0.710</td>\n",
              "      <td>0.268</td>\n",
              "    </tr>\n",
              "  </tbody>\n",
              "</table>\n",
              "</div>\n",
              "      <button class=\"colab-df-convert\" onclick=\"convertToInteractive('df-1518c418-761b-463c-872c-465429c76001')\"\n",
              "              title=\"Convert this dataframe to an interactive table.\"\n",
              "              style=\"display:none;\">\n",
              "        \n",
              "  <svg xmlns=\"http://www.w3.org/2000/svg\" height=\"24px\"viewBox=\"0 0 24 24\"\n",
              "       width=\"24px\">\n",
              "    <path d=\"M0 0h24v24H0V0z\" fill=\"none\"/>\n",
              "    <path d=\"M18.56 5.44l.94 2.06.94-2.06 2.06-.94-2.06-.94-.94-2.06-.94 2.06-2.06.94zm-11 1L8.5 8.5l.94-2.06 2.06-.94-2.06-.94L8.5 2.5l-.94 2.06-2.06.94zm10 10l.94 2.06.94-2.06 2.06-.94-2.06-.94-.94-2.06-.94 2.06-2.06.94z\"/><path d=\"M17.41 7.96l-1.37-1.37c-.4-.4-.92-.59-1.43-.59-.52 0-1.04.2-1.43.59L10.3 9.45l-7.72 7.72c-.78.78-.78 2.05 0 2.83L4 21.41c.39.39.9.59 1.41.59.51 0 1.02-.2 1.41-.59l7.78-7.78 2.81-2.81c.8-.78.8-2.07 0-2.86zM5.41 20L4 18.59l7.72-7.72 1.47 1.35L5.41 20z\"/>\n",
              "  </svg>\n",
              "      </button>\n",
              "      \n",
              "  <style>\n",
              "    .colab-df-container {\n",
              "      display:flex;\n",
              "      flex-wrap:wrap;\n",
              "      gap: 12px;\n",
              "    }\n",
              "\n",
              "    .colab-df-convert {\n",
              "      background-color: #E8F0FE;\n",
              "      border: none;\n",
              "      border-radius: 50%;\n",
              "      cursor: pointer;\n",
              "      display: none;\n",
              "      fill: #1967D2;\n",
              "      height: 32px;\n",
              "      padding: 0 0 0 0;\n",
              "      width: 32px;\n",
              "    }\n",
              "\n",
              "    .colab-df-convert:hover {\n",
              "      background-color: #E2EBFA;\n",
              "      box-shadow: 0px 1px 2px rgba(60, 64, 67, 0.3), 0px 1px 3px 1px rgba(60, 64, 67, 0.15);\n",
              "      fill: #174EA6;\n",
              "    }\n",
              "\n",
              "    [theme=dark] .colab-df-convert {\n",
              "      background-color: #3B4455;\n",
              "      fill: #D2E3FC;\n",
              "    }\n",
              "\n",
              "    [theme=dark] .colab-df-convert:hover {\n",
              "      background-color: #434B5C;\n",
              "      box-shadow: 0px 1px 3px 1px rgba(0, 0, 0, 0.15);\n",
              "      filter: drop-shadow(0px 1px 2px rgba(0, 0, 0, 0.3));\n",
              "      fill: #FFFFFF;\n",
              "    }\n",
              "  </style>\n",
              "\n",
              "      <script>\n",
              "        const buttonEl =\n",
              "          document.querySelector('#df-1518c418-761b-463c-872c-465429c76001 button.colab-df-convert');\n",
              "        buttonEl.style.display =\n",
              "          google.colab.kernel.accessAllowed ? 'block' : 'none';\n",
              "\n",
              "        async function convertToInteractive(key) {\n",
              "          const element = document.querySelector('#df-1518c418-761b-463c-872c-465429c76001');\n",
              "          const dataTable =\n",
              "            await google.colab.kernel.invokeFunction('convertToInteractive',\n",
              "                                                     [key], {});\n",
              "          if (!dataTable) return;\n",
              "\n",
              "          const docLinkHtml = 'Like what you see? Visit the ' +\n",
              "            '<a target=\"_blank\" href=https://colab.research.google.com/notebooks/data_table.ipynb>data table notebook</a>'\n",
              "            + ' to learn more about interactive tables.';\n",
              "          element.innerHTML = '';\n",
              "          dataTable['output_type'] = 'display_data';\n",
              "          await google.colab.output.renderOutput(dataTable, element);\n",
              "          const docLink = document.createElement('div');\n",
              "          docLink.innerHTML = docLinkHtml;\n",
              "          element.appendChild(docLink);\n",
              "        }\n",
              "      </script>\n",
              "    </div>\n",
              "  </div>\n",
              "  "
            ],
            "text/plain": [
              "       country  year  ...  Positive affect  Negative affect\n",
              "0  Afghanistan  2008  ...            0.518            0.258\n",
              "1  Afghanistan  2009  ...            0.584            0.237\n",
              "2  Afghanistan  2010  ...            0.618            0.275\n",
              "3  Afghanistan  2011  ...            0.611            0.267\n",
              "4  Afghanistan  2012  ...            0.710            0.268\n",
              "\n",
              "[5 rows x 11 columns]"
            ]
          },
          "metadata": {},
          "execution_count": 17
        }
      ]
    },
    {
      "cell_type": "code",
      "source": [
        "data1.tail()"
      ],
      "metadata": {
        "colab": {
          "base_uri": "https://localhost:8080/",
          "height": 206
        },
        "id": "Jg_O14OxKLMK",
        "outputId": "a0894da2-483c-47d5-ee02-059705d9e5aa"
      },
      "execution_count": null,
      "outputs": [
        {
          "output_type": "execute_result",
          "data": {
            "text/html": [
              "\n",
              "  <div id=\"df-d4841a4d-7229-4a9d-9194-97b0bdd29dd9\">\n",
              "    <div class=\"colab-df-container\">\n",
              "      <div>\n",
              "<style scoped>\n",
              "    .dataframe tbody tr th:only-of-type {\n",
              "        vertical-align: middle;\n",
              "    }\n",
              "\n",
              "    .dataframe tbody tr th {\n",
              "        vertical-align: top;\n",
              "    }\n",
              "\n",
              "    .dataframe thead th {\n",
              "        text-align: right;\n",
              "    }\n",
              "</style>\n",
              "<table border=\"1\" class=\"dataframe\">\n",
              "  <thead>\n",
              "    <tr style=\"text-align: right;\">\n",
              "      <th></th>\n",
              "      <th>country</th>\n",
              "      <th>year</th>\n",
              "      <th>hapiness_score</th>\n",
              "      <th>economy</th>\n",
              "      <th>social_support</th>\n",
              "      <th>healthy_life</th>\n",
              "      <th>freedom</th>\n",
              "      <th>generosity</th>\n",
              "      <th>corruption</th>\n",
              "      <th>Positive affect</th>\n",
              "      <th>Negative affect</th>\n",
              "    </tr>\n",
              "  </thead>\n",
              "  <tbody>\n",
              "    <tr>\n",
              "      <th>1944</th>\n",
              "      <td>Zimbabwe</td>\n",
              "      <td>2016</td>\n",
              "      <td>3.735</td>\n",
              "      <td>7.984</td>\n",
              "      <td>0.768</td>\n",
              "      <td>54.4</td>\n",
              "      <td>0.733</td>\n",
              "      <td>-0.095</td>\n",
              "      <td>0.724</td>\n",
              "      <td>0.738</td>\n",
              "      <td>0.209</td>\n",
              "    </tr>\n",
              "    <tr>\n",
              "      <th>1945</th>\n",
              "      <td>Zimbabwe</td>\n",
              "      <td>2017</td>\n",
              "      <td>3.638</td>\n",
              "      <td>8.016</td>\n",
              "      <td>0.754</td>\n",
              "      <td>55.0</td>\n",
              "      <td>0.753</td>\n",
              "      <td>-0.098</td>\n",
              "      <td>0.751</td>\n",
              "      <td>0.806</td>\n",
              "      <td>0.224</td>\n",
              "    </tr>\n",
              "    <tr>\n",
              "      <th>1946</th>\n",
              "      <td>Zimbabwe</td>\n",
              "      <td>2018</td>\n",
              "      <td>3.616</td>\n",
              "      <td>8.049</td>\n",
              "      <td>0.775</td>\n",
              "      <td>55.6</td>\n",
              "      <td>0.763</td>\n",
              "      <td>-0.068</td>\n",
              "      <td>0.844</td>\n",
              "      <td>0.710</td>\n",
              "      <td>0.212</td>\n",
              "    </tr>\n",
              "    <tr>\n",
              "      <th>1947</th>\n",
              "      <td>Zimbabwe</td>\n",
              "      <td>2019</td>\n",
              "      <td>2.694</td>\n",
              "      <td>7.950</td>\n",
              "      <td>0.759</td>\n",
              "      <td>56.2</td>\n",
              "      <td>0.632</td>\n",
              "      <td>-0.064</td>\n",
              "      <td>0.831</td>\n",
              "      <td>0.716</td>\n",
              "      <td>0.235</td>\n",
              "    </tr>\n",
              "    <tr>\n",
              "      <th>1948</th>\n",
              "      <td>Zimbabwe</td>\n",
              "      <td>2020</td>\n",
              "      <td>3.160</td>\n",
              "      <td>7.829</td>\n",
              "      <td>0.717</td>\n",
              "      <td>56.8</td>\n",
              "      <td>0.643</td>\n",
              "      <td>-0.009</td>\n",
              "      <td>0.789</td>\n",
              "      <td>0.703</td>\n",
              "      <td>0.346</td>\n",
              "    </tr>\n",
              "  </tbody>\n",
              "</table>\n",
              "</div>\n",
              "      <button class=\"colab-df-convert\" onclick=\"convertToInteractive('df-d4841a4d-7229-4a9d-9194-97b0bdd29dd9')\"\n",
              "              title=\"Convert this dataframe to an interactive table.\"\n",
              "              style=\"display:none;\">\n",
              "        \n",
              "  <svg xmlns=\"http://www.w3.org/2000/svg\" height=\"24px\"viewBox=\"0 0 24 24\"\n",
              "       width=\"24px\">\n",
              "    <path d=\"M0 0h24v24H0V0z\" fill=\"none\"/>\n",
              "    <path d=\"M18.56 5.44l.94 2.06.94-2.06 2.06-.94-2.06-.94-.94-2.06-.94 2.06-2.06.94zm-11 1L8.5 8.5l.94-2.06 2.06-.94-2.06-.94L8.5 2.5l-.94 2.06-2.06.94zm10 10l.94 2.06.94-2.06 2.06-.94-2.06-.94-.94-2.06-.94 2.06-2.06.94z\"/><path d=\"M17.41 7.96l-1.37-1.37c-.4-.4-.92-.59-1.43-.59-.52 0-1.04.2-1.43.59L10.3 9.45l-7.72 7.72c-.78.78-.78 2.05 0 2.83L4 21.41c.39.39.9.59 1.41.59.51 0 1.02-.2 1.41-.59l7.78-7.78 2.81-2.81c.8-.78.8-2.07 0-2.86zM5.41 20L4 18.59l7.72-7.72 1.47 1.35L5.41 20z\"/>\n",
              "  </svg>\n",
              "      </button>\n",
              "      \n",
              "  <style>\n",
              "    .colab-df-container {\n",
              "      display:flex;\n",
              "      flex-wrap:wrap;\n",
              "      gap: 12px;\n",
              "    }\n",
              "\n",
              "    .colab-df-convert {\n",
              "      background-color: #E8F0FE;\n",
              "      border: none;\n",
              "      border-radius: 50%;\n",
              "      cursor: pointer;\n",
              "      display: none;\n",
              "      fill: #1967D2;\n",
              "      height: 32px;\n",
              "      padding: 0 0 0 0;\n",
              "      width: 32px;\n",
              "    }\n",
              "\n",
              "    .colab-df-convert:hover {\n",
              "      background-color: #E2EBFA;\n",
              "      box-shadow: 0px 1px 2px rgba(60, 64, 67, 0.3), 0px 1px 3px 1px rgba(60, 64, 67, 0.15);\n",
              "      fill: #174EA6;\n",
              "    }\n",
              "\n",
              "    [theme=dark] .colab-df-convert {\n",
              "      background-color: #3B4455;\n",
              "      fill: #D2E3FC;\n",
              "    }\n",
              "\n",
              "    [theme=dark] .colab-df-convert:hover {\n",
              "      background-color: #434B5C;\n",
              "      box-shadow: 0px 1px 3px 1px rgba(0, 0, 0, 0.15);\n",
              "      filter: drop-shadow(0px 1px 2px rgba(0, 0, 0, 0.3));\n",
              "      fill: #FFFFFF;\n",
              "    }\n",
              "  </style>\n",
              "\n",
              "      <script>\n",
              "        const buttonEl =\n",
              "          document.querySelector('#df-d4841a4d-7229-4a9d-9194-97b0bdd29dd9 button.colab-df-convert');\n",
              "        buttonEl.style.display =\n",
              "          google.colab.kernel.accessAllowed ? 'block' : 'none';\n",
              "\n",
              "        async function convertToInteractive(key) {\n",
              "          const element = document.querySelector('#df-d4841a4d-7229-4a9d-9194-97b0bdd29dd9');\n",
              "          const dataTable =\n",
              "            await google.colab.kernel.invokeFunction('convertToInteractive',\n",
              "                                                     [key], {});\n",
              "          if (!dataTable) return;\n",
              "\n",
              "          const docLinkHtml = 'Like what you see? Visit the ' +\n",
              "            '<a target=\"_blank\" href=https://colab.research.google.com/notebooks/data_table.ipynb>data table notebook</a>'\n",
              "            + ' to learn more about interactive tables.';\n",
              "          element.innerHTML = '';\n",
              "          dataTable['output_type'] = 'display_data';\n",
              "          await google.colab.output.renderOutput(dataTable, element);\n",
              "          const docLink = document.createElement('div');\n",
              "          docLink.innerHTML = docLinkHtml;\n",
              "          element.appendChild(docLink);\n",
              "        }\n",
              "      </script>\n",
              "    </div>\n",
              "  </div>\n",
              "  "
            ],
            "text/plain": [
              "       country  year  ...  Positive affect  Negative affect\n",
              "1944  Zimbabwe  2016  ...            0.738            0.209\n",
              "1945  Zimbabwe  2017  ...            0.806            0.224\n",
              "1946  Zimbabwe  2018  ...            0.710            0.212\n",
              "1947  Zimbabwe  2019  ...            0.716            0.235\n",
              "1948  Zimbabwe  2020  ...            0.703            0.346\n",
              "\n",
              "[5 rows x 11 columns]"
            ]
          },
          "metadata": {},
          "execution_count": 18
        }
      ]
    },
    {
      "cell_type": "code",
      "source": [
        "data1.describe()"
      ],
      "metadata": {
        "id": "BVxCsyo5pFKS",
        "outputId": "04dd5027-465f-4570-a200-887792d1b012",
        "colab": {
          "base_uri": "https://localhost:8080/",
          "height": 302
        }
      },
      "execution_count": null,
      "outputs": [
        {
          "output_type": "execute_result",
          "data": {
            "text/html": [
              "<div>\n",
              "<style scoped>\n",
              "    .dataframe tbody tr th:only-of-type {\n",
              "        vertical-align: middle;\n",
              "    }\n",
              "\n",
              "    .dataframe tbody tr th {\n",
              "        vertical-align: top;\n",
              "    }\n",
              "\n",
              "    .dataframe thead th {\n",
              "        text-align: right;\n",
              "    }\n",
              "</style>\n",
              "<table border=\"1\" class=\"dataframe\">\n",
              "  <thead>\n",
              "    <tr style=\"text-align: right;\">\n",
              "      <th></th>\n",
              "      <th>year</th>\n",
              "      <th>hapiness_score</th>\n",
              "      <th>economy</th>\n",
              "      <th>social_support</th>\n",
              "      <th>healthy_life</th>\n",
              "      <th>freedom</th>\n",
              "      <th>generosity</th>\n",
              "      <th>corruption</th>\n",
              "      <th>Positive affect</th>\n",
              "      <th>Negative affect</th>\n",
              "    </tr>\n",
              "  </thead>\n",
              "  <tbody>\n",
              "    <tr>\n",
              "      <th>count</th>\n",
              "      <td>1949.000000</td>\n",
              "      <td>1949.000000</td>\n",
              "      <td>1913.000000</td>\n",
              "      <td>1936.000000</td>\n",
              "      <td>1894.000000</td>\n",
              "      <td>1917.000000</td>\n",
              "      <td>1860.000000</td>\n",
              "      <td>1839.000000</td>\n",
              "      <td>1927.000000</td>\n",
              "      <td>1933.000000</td>\n",
              "    </tr>\n",
              "    <tr>\n",
              "      <th>mean</th>\n",
              "      <td>2013.216008</td>\n",
              "      <td>5.466705</td>\n",
              "      <td>9.368453</td>\n",
              "      <td>0.812552</td>\n",
              "      <td>63.359374</td>\n",
              "      <td>0.742558</td>\n",
              "      <td>0.000103</td>\n",
              "      <td>0.747125</td>\n",
              "      <td>0.710003</td>\n",
              "      <td>0.268544</td>\n",
              "    </tr>\n",
              "    <tr>\n",
              "      <th>std</th>\n",
              "      <td>4.166828</td>\n",
              "      <td>1.115711</td>\n",
              "      <td>1.154084</td>\n",
              "      <td>0.118482</td>\n",
              "      <td>7.510245</td>\n",
              "      <td>0.142093</td>\n",
              "      <td>0.162215</td>\n",
              "      <td>0.186789</td>\n",
              "      <td>0.107100</td>\n",
              "      <td>0.085168</td>\n",
              "    </tr>\n",
              "    <tr>\n",
              "      <th>min</th>\n",
              "      <td>2005.000000</td>\n",
              "      <td>2.375000</td>\n",
              "      <td>6.635000</td>\n",
              "      <td>0.290000</td>\n",
              "      <td>32.300000</td>\n",
              "      <td>0.258000</td>\n",
              "      <td>-0.335000</td>\n",
              "      <td>0.035000</td>\n",
              "      <td>0.322000</td>\n",
              "      <td>0.083000</td>\n",
              "    </tr>\n",
              "    <tr>\n",
              "      <th>25%</th>\n",
              "      <td>2010.000000</td>\n",
              "      <td>4.640000</td>\n",
              "      <td>8.464000</td>\n",
              "      <td>0.749750</td>\n",
              "      <td>58.685000</td>\n",
              "      <td>0.647000</td>\n",
              "      <td>-0.113000</td>\n",
              "      <td>0.690000</td>\n",
              "      <td>0.625500</td>\n",
              "      <td>0.206000</td>\n",
              "    </tr>\n",
              "    <tr>\n",
              "      <th>50%</th>\n",
              "      <td>2013.000000</td>\n",
              "      <td>5.386000</td>\n",
              "      <td>9.460000</td>\n",
              "      <td>0.835500</td>\n",
              "      <td>65.200000</td>\n",
              "      <td>0.763000</td>\n",
              "      <td>-0.025500</td>\n",
              "      <td>0.802000</td>\n",
              "      <td>0.722000</td>\n",
              "      <td>0.258000</td>\n",
              "    </tr>\n",
              "    <tr>\n",
              "      <th>75%</th>\n",
              "      <td>2017.000000</td>\n",
              "      <td>6.283000</td>\n",
              "      <td>10.353000</td>\n",
              "      <td>0.905000</td>\n",
              "      <td>68.590000</td>\n",
              "      <td>0.856000</td>\n",
              "      <td>0.091000</td>\n",
              "      <td>0.872000</td>\n",
              "      <td>0.799000</td>\n",
              "      <td>0.320000</td>\n",
              "    </tr>\n",
              "    <tr>\n",
              "      <th>max</th>\n",
              "      <td>2020.000000</td>\n",
              "      <td>8.019000</td>\n",
              "      <td>11.648000</td>\n",
              "      <td>0.987000</td>\n",
              "      <td>77.100000</td>\n",
              "      <td>0.985000</td>\n",
              "      <td>0.698000</td>\n",
              "      <td>0.983000</td>\n",
              "      <td>0.944000</td>\n",
              "      <td>0.705000</td>\n",
              "    </tr>\n",
              "  </tbody>\n",
              "</table>\n",
              "</div>"
            ],
            "text/plain": [
              "              year  hapiness_score  ...  Positive affect  Negative affect\n",
              "count  1949.000000     1949.000000  ...      1927.000000      1933.000000\n",
              "mean   2013.216008        5.466705  ...         0.710003         0.268544\n",
              "std       4.166828        1.115711  ...         0.107100         0.085168\n",
              "min    2005.000000        2.375000  ...         0.322000         0.083000\n",
              "25%    2010.000000        4.640000  ...         0.625500         0.206000\n",
              "50%    2013.000000        5.386000  ...         0.722000         0.258000\n",
              "75%    2017.000000        6.283000  ...         0.799000         0.320000\n",
              "max    2020.000000        8.019000  ...         0.944000         0.705000\n",
              "\n",
              "[8 rows x 10 columns]"
            ]
          },
          "metadata": {},
          "execution_count": 4
        }
      ]
    },
    {
      "cell_type": "code",
      "source": [
        "print(data1.isna().sum())"
      ],
      "metadata": {
        "colab": {
          "base_uri": "https://localhost:8080/"
        },
        "id": "ZMLKRUKrsV6X",
        "outputId": "f6ece7b9-d873-47bf-f92f-71416cba7a00"
      },
      "execution_count": null,
      "outputs": [
        {
          "output_type": "stream",
          "name": "stdout",
          "text": [
            "country              0\n",
            "year                 0\n",
            "hapiness_score       0\n",
            "economy             36\n",
            "social_support      13\n",
            "healthy_life        55\n",
            "freedom             32\n",
            "generosity          89\n",
            "corruption         110\n",
            "Positive affect     22\n",
            "Negative affect     16\n",
            "dtype: int64\n"
          ]
        }
      ]
    },
    {
      "cell_type": "code",
      "source": [
        "data1['economy'].fillna((data1['economy'].mean()),inplace=True)\n",
        "data1['social_support'].fillna((data1['social_support'].mean()),inplace=True)\n",
        "data1['healthy_life'].fillna((data1['healthy_life'].mean()),inplace=True)\n",
        "data1['freedom'].fillna((data1['freedom'].mean()),inplace=True)\n",
        "data1['generosity'].fillna((data1['generosity'].mean()),inplace=True)\n",
        "data1['corruption'].fillna((data1['corruption'].mean()),inplace=True)\n",
        "data1['Positive affect'].fillna((data1['Positive affect'].mean()),inplace=True)\n",
        "data1['Negative affect'].fillna((data1['Negative affect'].mean()),inplace=True)\n"
      ],
      "metadata": {
        "id": "BqDLv8A-scO3"
      },
      "execution_count": null,
      "outputs": []
    },
    {
      "cell_type": "code",
      "source": [
        "print(data1.isna().sum())"
      ],
      "metadata": {
        "colab": {
          "base_uri": "https://localhost:8080/"
        },
        "id": "IvDlWVK4KpNp",
        "outputId": "69627b8b-f863-4f7f-f92b-1a71d3f8aef0"
      },
      "execution_count": null,
      "outputs": [
        {
          "output_type": "stream",
          "name": "stdout",
          "text": [
            "country            0\n",
            "year               0\n",
            "hapiness_score     0\n",
            "economy            0\n",
            "social_support     0\n",
            "healthy_life       0\n",
            "freedom            0\n",
            "generosity         0\n",
            "corruption         0\n",
            "Positive affect    0\n",
            "Negative affect    0\n",
            "dtype: int64\n"
          ]
        }
      ]
    },
    {
      "cell_type": "code",
      "source": [
        "data1.info()"
      ],
      "metadata": {
        "colab": {
          "base_uri": "https://localhost:8080/"
        },
        "id": "geo5nZB3Ksdi",
        "outputId": "5e66d9c3-fd01-48f7-850b-3d359587e6c0"
      },
      "execution_count": null,
      "outputs": [
        {
          "output_type": "stream",
          "name": "stdout",
          "text": [
            "<class 'pandas.core.frame.DataFrame'>\n",
            "RangeIndex: 1949 entries, 0 to 1948\n",
            "Data columns (total 11 columns):\n",
            " #   Column           Non-Null Count  Dtype  \n",
            "---  ------           --------------  -----  \n",
            " 0   country          1949 non-null   object \n",
            " 1   year             1949 non-null   int64  \n",
            " 2   hapiness_score   1949 non-null   float64\n",
            " 3   economy          1949 non-null   float64\n",
            " 4   social_support   1949 non-null   float64\n",
            " 5   healthy_life     1949 non-null   float64\n",
            " 6   freedom          1949 non-null   float64\n",
            " 7   generosity       1949 non-null   float64\n",
            " 8   corruption       1949 non-null   float64\n",
            " 9   Positive affect  1949 non-null   float64\n",
            " 10  Negative affect  1949 non-null   float64\n",
            "dtypes: float64(9), int64(1), object(1)\n",
            "memory usage: 167.6+ KB\n"
          ]
        }
      ]
    },
    {
      "cell_type": "markdown",
      "metadata": {
        "id": "l4zSZ-k3-1k3"
      },
      "source": [
        "#en yüksek ladderdan en düşüğe göre sıralama(2021 gibi)\n"
      ]
    },
    {
      "cell_type": "code",
      "source": [
        "data1.columns"
      ],
      "metadata": {
        "colab": {
          "base_uri": "https://localhost:8080/"
        },
        "id": "REi0TqzAEqJc",
        "outputId": "dec50215-66c9-4510-f3ac-57b9775312a6"
      },
      "execution_count": null,
      "outputs": [
        {
          "output_type": "execute_result",
          "data": {
            "text/plain": [
              "Index(['country', 'year', 'hapiness_score', 'economy', 'social_support',\n",
              "       'healthy_life', 'freedom', 'generosity', 'corruption',\n",
              "       'Positive affect', 'Negative affect'],\n",
              "      dtype='object')"
            ]
          },
          "metadata": {},
          "execution_count": 7
        }
      ]
    },
    {
      "cell_type": "markdown",
      "source": [
        "#GRAFİKLER"
      ],
      "metadata": {
        "id": "ecfpMSlx0g-B"
      }
    },
    {
      "cell_type": "code",
      "metadata": {
        "id": "XawOnOI8nwZG"
      },
      "source": [
        "data1.sort_values(['hapiness_score'] ,ascending=False,inplace=True)"
      ],
      "execution_count": null,
      "outputs": []
    },
    {
      "cell_type": "code",
      "metadata": {
        "colab": {
          "base_uri": "https://localhost:8080/",
          "height": 622
        },
        "id": "tHzp74Ai5UdO",
        "outputId": "72985895-7a2f-4823-e51c-ef0abea70584"
      },
      "source": [
        "plt.figure(figsize=(40,10))\n",
        "sns.lineplot(data=data1.nlargest(50,'hapiness_score'),x=\"country\",y=\"hapiness_score\",marker='o')\n",
        "plt.title(\"Hapiness Score\")\n",
        "plt.show()"
      ],
      "execution_count": null,
      "outputs": [
        {
          "output_type": "display_data",
          "data": {
            "image/png": "[encoded data removed]",
            "text/plain": [
              "<Figure size 2880x720 with 1 Axes>"
            ]
          },
          "metadata": {
            "needs_background": "light"
          }
        }
      ]
    },
    {
      "cell_type": "code",
      "source": [
        "plt.figure(figsize=(20,10))\n",
        "sns.lineplot(data=data1,x=\"year\",y=\"hapiness_score\",marker='o')\n",
        "plt.title(\"Hapiness Score\")\n",
        "plt.show()"
      ],
      "metadata": {
        "colab": {
          "base_uri": "https://localhost:8080/",
          "height": 622
        },
        "id": "HaQItJoe0b-x",
        "outputId": "5a86f169-02af-4355-f722-5a121e157ea5"
      },
      "execution_count": null,
      "outputs": [
        {
          "output_type": "display_data",
          "data": {
            "image/png": "[encoded data removed]",
            "text/plain": [
              "<Figure size 1440x720 with 1 Axes>"
            ]
          },
          "metadata": {
            "needs_background": "light"
          }
        }
      ]
    },
    {
      "cell_type": "code",
      "metadata": {
        "colab": {
          "base_uri": "https://localhost:8080/"
        },
        "id": "nGANuJkR6i6z",
        "outputId": "218ecb7a-547a-4e62-cb67-3b2a0b1daaf6"
      },
      "source": [
        "print(\"(Rows, columns): \" + str(data1.shape))\n",
        "data1.columns"
      ],
      "execution_count": null,
      "outputs": [
        {
          "output_type": "stream",
          "name": "stdout",
          "text": [
            "(Rows, columns): (1949, 11)\n"
          ]
        },
        {
          "output_type": "execute_result",
          "data": {
            "text/plain": [
              "Index(['country', 'year', 'hapiness_score', 'economy', 'social_support',\n",
              "       'healthy_life', 'freedom', 'generosity', 'corruption',\n",
              "       'Positive affect', 'Negative affect'],\n",
              "      dtype='object')"
            ]
          },
          "metadata": {},
          "execution_count": 11
        }
      ]
    },
    {
      "cell_type": "code",
      "metadata": {
        "colab": {
          "base_uri": "https://localhost:8080/"
        },
        "id": "JsfoRsSP_mhV",
        "outputId": "9c04f1fc-ccff-4dec-a9f4-44f645959c3c"
      },
      "source": [
        "data1.nunique(axis=0)"
      ],
      "execution_count": null,
      "outputs": [
        {
          "output_type": "execute_result",
          "data": {
            "text/plain": [
              "country             166\n",
              "year                 16\n",
              "hapiness_score     1553\n",
              "economy            1501\n",
              "social_support      456\n",
              "healthy_life        829\n",
              "freedom             536\n",
              "generosity          610\n",
              "corruption          573\n",
              "Positive affect     432\n",
              "Negative affect     375\n",
              "dtype: int64"
            ]
          },
          "metadata": {},
          "execution_count": 12
        }
      ]
    },
    {
      "cell_type": "code",
      "metadata": {
        "colab": {
          "base_uri": "https://localhost:8080/"
        },
        "id": "TPvh08yvESTx",
        "outputId": "38c7ccc0-62b1-4c25-e2a4-692191538917"
      },
      "source": [
        "data1.country.unique()"
      ],
      "execution_count": null,
      "outputs": [
        {
          "output_type": "execute_result",
          "data": {
            "text/plain": [
              "array(['Denmark', 'Finland', 'Switzerland', 'Norway', 'Canada',\n",
              "       'Netherlands', 'Costa Rica', 'New Zealand', 'Iceland', 'Ireland',\n",
              "       'Sweden', 'United States', 'Austria', 'Venezuela', 'Australia',\n",
              "       'Mexico', 'Israel', 'Luxembourg', 'Panama', 'Germany', 'Spain',\n",
              "       'Saudi Arabia', 'Belgium', 'United Kingdom',\n",
              "       'United Arab Emirates', 'Brazil', 'Bahrain', 'France', 'Singapore',\n",
              "       'Czech Republic', 'Thailand', 'South Korea', 'Malta', 'Italy',\n",
              "       'Oman', 'Qatar', 'Chile', 'El Salvador', 'Cyprus', 'Kuwait',\n",
              "       'Argentina', 'Taiwan Province of China', 'Trinidad and Tobago',\n",
              "       'Slovenia', 'Greece', 'Uruguay', 'Guatemala', 'Colombia',\n",
              "       'Turkmenistan', 'Slovakia', 'Japan', 'Croatia', 'Nicaragua',\n",
              "       'Estonia', 'Belize', 'Kosovo', 'Uzbekistan', 'Lithuania',\n",
              "       'Algeria', 'Malaysia', 'Jamaica', 'Jordan', 'Kazakhstan',\n",
              "       'Suriname', 'Philippines', 'Kyrgyzstan', 'Poland', 'Mauritius',\n",
              "       'Serbia', 'Latvia', 'Romania', 'Ecuador', 'Portugal', 'Bolivia',\n",
              "       'Hungary', 'Russia', 'Honduras', 'Moldova',\n",
              "       'Bosnia and Herzegovina', 'Mongolia', 'Dominican Republic', 'Peru',\n",
              "       'Guyana', 'Paraguay', 'Belarus', 'Albania', 'North Cyprus',\n",
              "       'Pakistan', 'Tajikistan', 'Benin', 'China', 'Vietnam', 'Libya',\n",
              "       'Montenegro', 'Hong Kong S.A.R. of China', 'Turkey', 'Ghana',\n",
              "       'Bulgaria', 'Indonesia', 'Angola', 'Bhutan', 'Egypt', 'Somalia',\n",
              "       'Nigeria', 'Lebanon', 'Congo (Brazzaville)', 'Senegal', 'Armenia',\n",
              "       'Azerbaijan', 'Botswana', 'Nepal', 'Cuba', 'Ivory Coast',\n",
              "       'Morocco', 'Laos', 'India', 'North Macedonia', 'South Africa',\n",
              "       'Iran', 'Syria', 'Bangladesh', 'Ukraine', 'Zambia', 'Guinea',\n",
              "       'Cameroon', 'Tunisia', 'Maldives', 'Gambia', 'Niger', 'Malawi',\n",
              "       'Georgia', 'Cambodia', 'Liberia', 'Iraq', 'Somaliland region',\n",
              "       'Djibouti', 'Mali', 'Mozambique', 'Zimbabwe', 'Uganda',\n",
              "       'Burkina Faso', 'Gabon', 'Sierra Leone', 'Palestinian Territories',\n",
              "       'Kenya', 'Lesotho', 'Namibia', 'Swaziland', 'Haiti', 'Yemen',\n",
              "       'Myanmar', 'Mauritania', 'Afghanistan', 'Madagascar',\n",
              "       'Congo (Kinshasa)', 'Chad', 'Sri Lanka', 'Comoros', 'Ethiopia',\n",
              "       'Sudan', 'Tanzania', 'Rwanda', 'Togo', 'Central African Republic',\n",
              "       'South Sudan', 'Burundi'], dtype=object)"
            ]
          },
          "metadata": {},
          "execution_count": 10
        }
      ]
    },
    {
      "cell_type": "code",
      "metadata": {
        "colab": {
          "base_uri": "https://localhost:8080/"
        },
        "id": "o-V9T0KHOmMi",
        "outputId": "303bfe27-9a31-4ac6-882b-641e4273b9e1"
      },
      "source": [
        "data1.columns"
      ],
      "execution_count": null,
      "outputs": [
        {
          "output_type": "execute_result",
          "data": {
            "text/plain": [
              "Index(['country', 'year', 'ladder_score', 'economy', 'social_support',\n",
              "       'healthy_life', 'freedom', 'generosity', 'corruption',\n",
              "       'Positive affect', 'Negative affect'],\n",
              "      dtype='object')"
            ]
          },
          "metadata": {},
          "execution_count": 11
        }
      ]
    },
    {
      "cell_type": "code",
      "metadata": {
        "colab": {
          "base_uri": "https://localhost:8080/",
          "height": 371
        },
        "id": "DZltGlI-OuYP",
        "outputId": "7b6425ca-2afc-4d2c-f94f-58ef80ce5292"
      },
      "source": [
        "plt.figure(figsize=(20,7))\n",
        "sns.lineplot(data=data1,x=\"year\",y=\"ladder_score\",marker='o')\n",
        "plt.title(\"Life Ladder\")\n",
        "plt.show()"
      ],
      "execution_count": null,
      "outputs": [
        {
          "output_type": "display_data",
          "data": {
            "image/png": "[encoded data removed]",
            "text/plain": [
              "<Figure size 1440x504 with 1 Axes>"
            ]
          },
          "metadata": {
            "needs_background": "light"
          }
        }
      ]
    },
    {
      "cell_type": "code",
      "metadata": {
        "id": "NZw4qvIjlzXk"
      },
      "source": [
        "a=data1[data1['country']=='Turkey']\n"
      ],
      "execution_count": null,
      "outputs": []
    },
    {
      "cell_type": "code",
      "source": [
        "a.corr()"
      ],
      "metadata": {
        "colab": {
          "base_uri": "https://localhost:8080/",
          "height": 400
        },
        "id": "-EKHJGxwOkVt",
        "outputId": "d95e5b65-0550-4e0a-af4c-bb00a7f3d13c"
      },
      "execution_count": null,
      "outputs": [
        {
          "output_type": "execute_result",
          "data": {
            "text/html": [
              "<div>\n",
              "<style scoped>\n",
              "    .dataframe tbody tr th:only-of-type {\n",
              "        vertical-align: middle;\n",
              "    }\n",
              "\n",
              "    .dataframe tbody tr th {\n",
              "        vertical-align: top;\n",
              "    }\n",
              "\n",
              "    .dataframe thead th {\n",
              "        text-align: right;\n",
              "    }\n",
              "</style>\n",
              "<table border=\"1\" class=\"dataframe\">\n",
              "  <thead>\n",
              "    <tr style=\"text-align: right;\">\n",
              "      <th></th>\n",
              "      <th>year</th>\n",
              "      <th>hapiness_score</th>\n",
              "      <th>economy</th>\n",
              "      <th>social_support</th>\n",
              "      <th>healthy_life</th>\n",
              "      <th>freedom</th>\n",
              "      <th>generosity</th>\n",
              "      <th>corruption</th>\n",
              "      <th>Positive affect</th>\n",
              "      <th>Negative affect</th>\n",
              "    </tr>\n",
              "  </thead>\n",
              "  <tbody>\n",
              "    <tr>\n",
              "      <th>year</th>\n",
              "      <td>1.000000</td>\n",
              "      <td>-0.042169</td>\n",
              "      <td>0.963618</td>\n",
              "      <td>0.549855</td>\n",
              "      <td>0.996548</td>\n",
              "      <td>0.441972</td>\n",
              "      <td>0.065631</td>\n",
              "      <td>-0.353625</td>\n",
              "      <td>-0.819371</td>\n",
              "      <td>0.505789</td>\n",
              "    </tr>\n",
              "    <tr>\n",
              "      <th>hapiness_score</th>\n",
              "      <td>-0.042169</td>\n",
              "      <td>1.000000</td>\n",
              "      <td>0.045689</td>\n",
              "      <td>0.169302</td>\n",
              "      <td>-0.068915</td>\n",
              "      <td>0.062452</td>\n",
              "      <td>-0.097088</td>\n",
              "      <td>-0.186718</td>\n",
              "      <td>0.134598</td>\n",
              "      <td>0.044530</td>\n",
              "    </tr>\n",
              "    <tr>\n",
              "      <th>economy</th>\n",
              "      <td>0.963618</td>\n",
              "      <td>0.045689</td>\n",
              "      <td>1.000000</td>\n",
              "      <td>0.590381</td>\n",
              "      <td>0.943422</td>\n",
              "      <td>0.535781</td>\n",
              "      <td>0.118243</td>\n",
              "      <td>-0.423074</td>\n",
              "      <td>-0.802992</td>\n",
              "      <td>0.493192</td>\n",
              "    </tr>\n",
              "    <tr>\n",
              "      <th>social_support</th>\n",
              "      <td>0.549855</td>\n",
              "      <td>0.169302</td>\n",
              "      <td>0.590381</td>\n",
              "      <td>1.000000</td>\n",
              "      <td>0.512154</td>\n",
              "      <td>0.788043</td>\n",
              "      <td>0.524280</td>\n",
              "      <td>0.138982</td>\n",
              "      <td>-0.683690</td>\n",
              "      <td>0.162721</td>\n",
              "    </tr>\n",
              "    <tr>\n",
              "      <th>healthy_life</th>\n",
              "      <td>0.996548</td>\n",
              "      <td>-0.068915</td>\n",
              "      <td>0.943422</td>\n",
              "      <td>0.512154</td>\n",
              "      <td>1.000000</td>\n",
              "      <td>0.387043</td>\n",
              "      <td>0.021451</td>\n",
              "      <td>-0.348349</td>\n",
              "      <td>-0.804379</td>\n",
              "      <td>0.507154</td>\n",
              "    </tr>\n",
              "    <tr>\n",
              "      <th>freedom</th>\n",
              "      <td>0.441972</td>\n",
              "      <td>0.062452</td>\n",
              "      <td>0.535781</td>\n",
              "      <td>0.788043</td>\n",
              "      <td>0.387043</td>\n",
              "      <td>1.000000</td>\n",
              "      <td>0.665442</td>\n",
              "      <td>0.048955</td>\n",
              "      <td>-0.644809</td>\n",
              "      <td>-0.058825</td>\n",
              "    </tr>\n",
              "    <tr>\n",
              "      <th>generosity</th>\n",
              "      <td>0.065631</td>\n",
              "      <td>-0.097088</td>\n",
              "      <td>0.118243</td>\n",
              "      <td>0.524280</td>\n",
              "      <td>0.021451</td>\n",
              "      <td>0.665442</td>\n",
              "      <td>1.000000</td>\n",
              "      <td>0.510921</td>\n",
              "      <td>-0.474475</td>\n",
              "      <td>0.058749</td>\n",
              "    </tr>\n",
              "    <tr>\n",
              "      <th>corruption</th>\n",
              "      <td>-0.353625</td>\n",
              "      <td>-0.186718</td>\n",
              "      <td>-0.423074</td>\n",
              "      <td>0.138982</td>\n",
              "      <td>-0.348349</td>\n",
              "      <td>0.048955</td>\n",
              "      <td>0.510921</td>\n",
              "      <td>1.000000</td>\n",
              "      <td>-0.050846</td>\n",
              "      <td>-0.311775</td>\n",
              "    </tr>\n",
              "    <tr>\n",
              "      <th>Positive affect</th>\n",
              "      <td>-0.819371</td>\n",
              "      <td>0.134598</td>\n",
              "      <td>-0.802992</td>\n",
              "      <td>-0.683690</td>\n",
              "      <td>-0.804379</td>\n",
              "      <td>-0.644809</td>\n",
              "      <td>-0.474475</td>\n",
              "      <td>-0.050846</td>\n",
              "      <td>1.000000</td>\n",
              "      <td>-0.280137</td>\n",
              "    </tr>\n",
              "    <tr>\n",
              "      <th>Negative affect</th>\n",
              "      <td>0.505789</td>\n",
              "      <td>0.044530</td>\n",
              "      <td>0.493192</td>\n",
              "      <td>0.162721</td>\n",
              "      <td>0.507154</td>\n",
              "      <td>-0.058825</td>\n",
              "      <td>0.058749</td>\n",
              "      <td>-0.311775</td>\n",
              "      <td>-0.280137</td>\n",
              "      <td>1.000000</td>\n",
              "    </tr>\n",
              "  </tbody>\n",
              "</table>\n",
              "</div>"
            ],
            "text/plain": [
              "                     year  hapiness_score  ...  Positive affect  Negative affect\n",
              "year             1.000000       -0.042169  ...        -0.819371         0.505789\n",
              "hapiness_score  -0.042169        1.000000  ...         0.134598         0.044530\n",
              "economy          0.963618        0.045689  ...        -0.802992         0.493192\n",
              "social_support   0.549855        0.169302  ...        -0.683690         0.162721\n",
              "healthy_life     0.996548       -0.068915  ...        -0.804379         0.507154\n",
              "freedom          0.441972        0.062452  ...        -0.644809        -0.058825\n",
              "generosity       0.065631       -0.097088  ...        -0.474475         0.058749\n",
              "corruption      -0.353625       -0.186718  ...        -0.050846        -0.311775\n",
              "Positive affect -0.819371        0.134598  ...         1.000000        -0.280137\n",
              "Negative affect  0.505789        0.044530  ...        -0.280137         1.000000\n",
              "\n",
              "[10 rows x 10 columns]"
            ]
          },
          "metadata": {},
          "execution_count": 22
        }
      ]
    },
    {
      "cell_type": "code",
      "metadata": {
        "colab": {
          "base_uri": "https://localhost:8080/",
          "height": 557
        },
        "id": "27dk1_y6ugP6",
        "outputId": "76d1754f-0134-4e42-d98c-776312ca78c9"
      },
      "source": [
        "a.head(15)"
      ],
      "execution_count": null,
      "outputs": [
        {
          "output_type": "execute_result",
          "data": {
            "text/html": [
              "<div>\n",
              "<style scoped>\n",
              "    .dataframe tbody tr th:only-of-type {\n",
              "        vertical-align: middle;\n",
              "    }\n",
              "\n",
              "    .dataframe tbody tr th {\n",
              "        vertical-align: top;\n",
              "    }\n",
              "\n",
              "    .dataframe thead th {\n",
              "        text-align: right;\n",
              "    }\n",
              "</style>\n",
              "<table border=\"1\" class=\"dataframe\">\n",
              "  <thead>\n",
              "    <tr style=\"text-align: right;\">\n",
              "      <th></th>\n",
              "      <th>country</th>\n",
              "      <th>year</th>\n",
              "      <th>hapiness_score</th>\n",
              "      <th>economy</th>\n",
              "      <th>social_support</th>\n",
              "      <th>healthy_life</th>\n",
              "      <th>freedom</th>\n",
              "      <th>generosity</th>\n",
              "      <th>corruption</th>\n",
              "      <th>Positive affect</th>\n",
              "      <th>Negative affect</th>\n",
              "    </tr>\n",
              "  </thead>\n",
              "  <tbody>\n",
              "    <tr>\n",
              "      <th>1754</th>\n",
              "      <td>Turkey</td>\n",
              "      <td>2007</td>\n",
              "      <td>5.623</td>\n",
              "      <td>9.903</td>\n",
              "      <td>0.792</td>\n",
              "      <td>63.32</td>\n",
              "      <td>0.459</td>\n",
              "      <td>-0.178000</td>\n",
              "      <td>0.800</td>\n",
              "      <td>0.651</td>\n",
              "      <td>0.395000</td>\n",
              "    </tr>\n",
              "    <tr>\n",
              "      <th>1764</th>\n",
              "      <td>Turkey</td>\n",
              "      <td>2017</td>\n",
              "      <td>5.607</td>\n",
              "      <td>10.238</td>\n",
              "      <td>0.876</td>\n",
              "      <td>66.40</td>\n",
              "      <td>0.644</td>\n",
              "      <td>-0.237000</td>\n",
              "      <td>0.671</td>\n",
              "      <td>0.450</td>\n",
              "      <td>0.313000</td>\n",
              "    </tr>\n",
              "    <tr>\n",
              "      <th>1761</th>\n",
              "      <td>Turkey</td>\n",
              "      <td>2014</td>\n",
              "      <td>5.580</td>\n",
              "      <td>10.124</td>\n",
              "      <td>0.863</td>\n",
              "      <td>65.36</td>\n",
              "      <td>0.649</td>\n",
              "      <td>-0.024000</td>\n",
              "      <td>0.764</td>\n",
              "      <td>0.483</td>\n",
              "      <td>0.377000</td>\n",
              "    </tr>\n",
              "    <tr>\n",
              "      <th>1762</th>\n",
              "      <td>Turkey</td>\n",
              "      <td>2015</td>\n",
              "      <td>5.514</td>\n",
              "      <td>10.166</td>\n",
              "      <td>0.851</td>\n",
              "      <td>65.60</td>\n",
              "      <td>0.653</td>\n",
              "      <td>-0.016000</td>\n",
              "      <td>0.806</td>\n",
              "      <td>0.460</td>\n",
              "      <td>0.382000</td>\n",
              "    </tr>\n",
              "    <tr>\n",
              "      <th>1757</th>\n",
              "      <td>Turkey</td>\n",
              "      <td>2010</td>\n",
              "      <td>5.490</td>\n",
              "      <td>9.906</td>\n",
              "      <td>0.795</td>\n",
              "      <td>64.40</td>\n",
              "      <td>0.515</td>\n",
              "      <td>-0.187000</td>\n",
              "      <td>0.811</td>\n",
              "      <td>0.652</td>\n",
              "      <td>0.327000</td>\n",
              "    </tr>\n",
              "    <tr>\n",
              "      <th>1763</th>\n",
              "      <td>Turkey</td>\n",
              "      <td>2016</td>\n",
              "      <td>5.326</td>\n",
              "      <td>10.181</td>\n",
              "      <td>0.880</td>\n",
              "      <td>66.00</td>\n",
              "      <td>0.644</td>\n",
              "      <td>-0.065000</td>\n",
              "      <td>0.764</td>\n",
              "      <td>0.465</td>\n",
              "      <td>0.390000</td>\n",
              "    </tr>\n",
              "    <tr>\n",
              "      <th>1759</th>\n",
              "      <td>Turkey</td>\n",
              "      <td>2012</td>\n",
              "      <td>5.309</td>\n",
              "      <td>10.026</td>\n",
              "      <td>0.739</td>\n",
              "      <td>64.88</td>\n",
              "      <td>0.471</td>\n",
              "      <td>-0.216000</td>\n",
              "      <td>0.702</td>\n",
              "      <td>0.645</td>\n",
              "      <td>0.335000</td>\n",
              "    </tr>\n",
              "    <tr>\n",
              "      <th>1758</th>\n",
              "      <td>Turkey</td>\n",
              "      <td>2011</td>\n",
              "      <td>5.272</td>\n",
              "      <td>9.996</td>\n",
              "      <td>0.692</td>\n",
              "      <td>64.64</td>\n",
              "      <td>0.446</td>\n",
              "      <td>-0.242000</td>\n",
              "      <td>0.649</td>\n",
              "      <td>0.621</td>\n",
              "      <td>0.380000</td>\n",
              "    </tr>\n",
              "    <tr>\n",
              "      <th>1756</th>\n",
              "      <td>Turkey</td>\n",
              "      <td>2009</td>\n",
              "      <td>5.213</td>\n",
              "      <td>9.838</td>\n",
              "      <td>0.755</td>\n",
              "      <td>64.04</td>\n",
              "      <td>0.456</td>\n",
              "      <td>-0.227000</td>\n",
              "      <td>0.853</td>\n",
              "      <td>0.598</td>\n",
              "      <td>0.316000</td>\n",
              "    </tr>\n",
              "    <tr>\n",
              "      <th>1765</th>\n",
              "      <td>Turkey</td>\n",
              "      <td>2018</td>\n",
              "      <td>5.186</td>\n",
              "      <td>10.251</td>\n",
              "      <td>0.847</td>\n",
              "      <td>66.80</td>\n",
              "      <td>0.529</td>\n",
              "      <td>-0.176000</td>\n",
              "      <td>0.805</td>\n",
              "      <td>0.435</td>\n",
              "      <td>0.351000</td>\n",
              "    </tr>\n",
              "    <tr>\n",
              "      <th>1755</th>\n",
              "      <td>Turkey</td>\n",
              "      <td>2008</td>\n",
              "      <td>5.118</td>\n",
              "      <td>9.899</td>\n",
              "      <td>0.645</td>\n",
              "      <td>63.68</td>\n",
              "      <td>0.415</td>\n",
              "      <td>-0.189000</td>\n",
              "      <td>0.785</td>\n",
              "      <td>0.614</td>\n",
              "      <td>0.345000</td>\n",
              "    </tr>\n",
              "    <tr>\n",
              "      <th>1760</th>\n",
              "      <td>Turkey</td>\n",
              "      <td>2013</td>\n",
              "      <td>4.888</td>\n",
              "      <td>10.091</td>\n",
              "      <td>0.795</td>\n",
              "      <td>65.12</td>\n",
              "      <td>0.541</td>\n",
              "      <td>-0.229000</td>\n",
              "      <td>0.698</td>\n",
              "      <td>0.635</td>\n",
              "      <td>0.392000</td>\n",
              "    </tr>\n",
              "    <tr>\n",
              "      <th>1766</th>\n",
              "      <td>Turkey</td>\n",
              "      <td>2019</td>\n",
              "      <td>4.872</td>\n",
              "      <td>10.246</td>\n",
              "      <td>0.792</td>\n",
              "      <td>67.20</td>\n",
              "      <td>0.631</td>\n",
              "      <td>-0.136000</td>\n",
              "      <td>0.760</td>\n",
              "      <td>0.422</td>\n",
              "      <td>0.368000</td>\n",
              "    </tr>\n",
              "    <tr>\n",
              "      <th>1767</th>\n",
              "      <td>Turkey</td>\n",
              "      <td>2020</td>\n",
              "      <td>4.862</td>\n",
              "      <td>10.219</td>\n",
              "      <td>0.857</td>\n",
              "      <td>67.60</td>\n",
              "      <td>0.510</td>\n",
              "      <td>-0.111000</td>\n",
              "      <td>0.774</td>\n",
              "      <td>0.384</td>\n",
              "      <td>0.440000</td>\n",
              "    </tr>\n",
              "    <tr>\n",
              "      <th>1753</th>\n",
              "      <td>Turkey</td>\n",
              "      <td>2005</td>\n",
              "      <td>4.719</td>\n",
              "      <td>9.809</td>\n",
              "      <td>0.820</td>\n",
              "      <td>62.60</td>\n",
              "      <td>0.623</td>\n",
              "      <td>0.000103</td>\n",
              "      <td>0.877</td>\n",
              "      <td>0.557</td>\n",
              "      <td>0.268544</td>\n",
              "    </tr>\n",
              "  </tbody>\n",
              "</table>\n",
              "</div>"
            ],
            "text/plain": [
              "     country  year  ...  Positive affect  Negative affect\n",
              "1754  Turkey  2007  ...            0.651         0.395000\n",
              "1764  Turkey  2017  ...            0.450         0.313000\n",
              "1761  Turkey  2014  ...            0.483         0.377000\n",
              "1762  Turkey  2015  ...            0.460         0.382000\n",
              "1757  Turkey  2010  ...            0.652         0.327000\n",
              "1763  Turkey  2016  ...            0.465         0.390000\n",
              "1759  Turkey  2012  ...            0.645         0.335000\n",
              "1758  Turkey  2011  ...            0.621         0.380000\n",
              "1756  Turkey  2009  ...            0.598         0.316000\n",
              "1765  Turkey  2018  ...            0.435         0.351000\n",
              "1755  Turkey  2008  ...            0.614         0.345000\n",
              "1760  Turkey  2013  ...            0.635         0.392000\n",
              "1766  Turkey  2019  ...            0.422         0.368000\n",
              "1767  Turkey  2020  ...            0.384         0.440000\n",
              "1753  Turkey  2005  ...            0.557         0.268544\n",
              "\n",
              "[15 rows x 11 columns]"
            ]
          },
          "metadata": {},
          "execution_count": 23
        }
      ]
    },
    {
      "cell_type": "markdown",
      "metadata": {
        "id": "4qxL-0Vei8iM"
      },
      "source": [
        "#YILLARA GÖRE TÜRKİYENİN MEMNUNİYET ORANI "
      ]
    },
    {
      "cell_type": "code",
      "source": [
        "a.columns"
      ],
      "metadata": {
        "colab": {
          "base_uri": "https://localhost:8080/"
        },
        "id": "Chm2xNspIOoG",
        "outputId": "b21c6ec1-ac01-429a-e50a-fe793788bd4e"
      },
      "execution_count": null,
      "outputs": [
        {
          "output_type": "execute_result",
          "data": {
            "text/plain": [
              "Index(['country', 'year', 'hapiness_score', 'economy', 'social_support',\n",
              "       'healthy_life', 'freedom', 'generosity', 'corruption',\n",
              "       'Positive affect', 'Negative affect'],\n",
              "      dtype='object')"
            ]
          },
          "metadata": {},
          "execution_count": 25
        }
      ]
    },
    {
      "cell_type": "code",
      "metadata": {
        "colab": {
          "base_uri": "https://localhost:8080/",
          "height": 371
        },
        "id": "bESBXXOOvdFY",
        "outputId": "87986f8a-886c-473f-f28c-fe03fc423d1a"
      },
      "source": [
        "plt.figure(figsize=(20,7))\n",
        "sns.lineplot(data=a,x=\"year\",y=\"hapiness_score\",marker='o')\n",
        "plt.title(\"Hapiness Score\")\n",
        "plt.show()"
      ],
      "execution_count": null,
      "outputs": [
        {
          "output_type": "display_data",
          "data": {
            "image/png": "[encoded data removed]",
            "text/plain": [
              "<Figure size 1440x504 with 1 Axes>"
            ]
          },
          "metadata": {
            "needs_background": "light"
          }
        }
      ]
    },
    {
      "cell_type": "markdown",
      "metadata": {
        "id": "1EdYejvfknHJ"
      },
      "source": [
        "#YILLARA GÖRE TÜRKİYENİN GDP DEĞRELRERİ"
      ]
    },
    {
      "cell_type": "code",
      "metadata": {
        "colab": {
          "base_uri": "https://localhost:8080/",
          "height": 370
        },
        "id": "ncdBcZcyjUpK",
        "outputId": "8cfb27ef-c005-4c65-8756-4336b8cb719c"
      },
      "source": [
        "plt.figure(figsize=(20,7))\n",
        "sns.lineplot(data=a,x=\"year\",y=\"economy\",marker='o')\n",
        "plt.title(\"Economy\")\n",
        "plt.show()"
      ],
      "execution_count": null,
      "outputs": [
        {
          "output_type": "display_data",
          "data": {
            "image/png": "[encoded data removed]",
            "text/plain": [
              "<Figure size 1440x504 with 1 Axes>"
            ]
          },
          "metadata": {
            "needs_background": "light"
          }
        }
      ]
    },
    {
      "cell_type": "code",
      "source": [
        "b=data1[data1['country']=='India']"
      ],
      "metadata": {
        "id": "jLrO37HuWBA0"
      },
      "execution_count": null,
      "outputs": []
    },
    {
      "cell_type": "code",
      "source": [
        "plt.figure(figsize=(20,7))\n",
        "sns.lineplot(data=a,x=\"year\",y=\"corruption\",marker='o')\n",
        "plt.title(\"Corruption\")\n",
        "plt.show()"
      ],
      "metadata": {
        "colab": {
          "base_uri": "https://localhost:8080/",
          "height": 370
        },
        "id": "XnBiTudnVoGp",
        "outputId": "757d783b-eadd-46a3-85ed-c7b38bf6459c"
      },
      "execution_count": null,
      "outputs": [
        {
          "output_type": "display_data",
          "data": {
            "image/png": "[encoded data removed]",
            "text/plain": [
              "<Figure size 1440x504 with 1 Axes>"
            ]
          },
          "metadata": {
            "needs_background": "light"
          }
        }
      ]
    },
    {
      "cell_type": "markdown",
      "metadata": {
        "id": "L7oGAjKcks6v"
      },
      "source": [
        "#YILLARA GÖRE TÜRKİYENİN SOCİAL SUPPORT DEĞERLERİ"
      ]
    },
    {
      "cell_type": "code",
      "metadata": {
        "colab": {
          "base_uri": "https://localhost:8080/",
          "height": 370
        },
        "id": "2EFiT_wjkP4B",
        "outputId": "c798055f-2a05-470a-f684-a865250694df"
      },
      "source": [
        "plt.figure(figsize=(20,7))\n",
        "sns.lineplot(data=a,x=\"year\",y=\"social_support\",marker='o')\n",
        "plt.title(\"Social support\")\n",
        "plt.show()"
      ],
      "execution_count": null,
      "outputs": [
        {
          "output_type": "display_data",
          "data": {
            "image/png": "[encoded data removed]",
            "text/plain": [
              "<Figure size 1440x504 with 1 Axes>"
            ]
          },
          "metadata": {
            "needs_background": "light"
          }
        }
      ]
    },
    {
      "cell_type": "code",
      "metadata": {
        "colab": {
          "base_uri": "https://localhost:8080/",
          "height": 373
        },
        "id": "JX5O29pEk9LI",
        "outputId": "f3a264ee-5653-4f9b-91b9-3bb289f16b34"
      },
      "source": [
        "plt.figure(figsize=(20,7))\n",
        "sns.lineplot(data=a,x=\"year\",y=\"healthy_life\",marker='o')\n",
        "plt.title(\"Healty Life\")\n",
        "plt.show()"
      ],
      "execution_count": null,
      "outputs": [
        {
          "output_type": "display_data",
          "data": {
            "image/png": "[encoded data removed]",
            "text/plain": [
              "<Figure size 1440x504 with 1 Axes>"
            ]
          },
          "metadata": {
            "needs_background": "light"
          }
        }
      ]
    },
    {
      "cell_type": "markdown",
      "metadata": {
        "id": "fYb81yUKkxqG"
      },
      "source": [
        "#KORELASYON MATRİXİ DATA1"
      ]
    },
    {
      "cell_type": "code",
      "metadata": {
        "id": "BiWgBWH6Rmlm",
        "colab": {
          "base_uri": "https://localhost:8080/",
          "height": 364
        },
        "outputId": "731b5859-7db3-4db6-d065-cdef0c7b663f"
      },
      "source": [
        "data1.corr()"
      ],
      "execution_count": null,
      "outputs": [
        {
          "output_type": "execute_result",
          "data": {
            "text/html": [
              "<div>\n",
              "<style scoped>\n",
              "    .dataframe tbody tr th:only-of-type {\n",
              "        vertical-align: middle;\n",
              "    }\n",
              "\n",
              "    .dataframe tbody tr th {\n",
              "        vertical-align: top;\n",
              "    }\n",
              "\n",
              "    .dataframe thead th {\n",
              "        text-align: right;\n",
              "    }\n",
              "</style>\n",
              "<table border=\"1\" class=\"dataframe\">\n",
              "  <thead>\n",
              "    <tr style=\"text-align: right;\">\n",
              "      <th></th>\n",
              "      <th>year</th>\n",
              "      <th>hapiness_score</th>\n",
              "      <th>economy</th>\n",
              "      <th>social_support</th>\n",
              "      <th>healthy_life</th>\n",
              "      <th>freedom</th>\n",
              "      <th>generosity</th>\n",
              "      <th>corruption</th>\n",
              "      <th>Positive affect</th>\n",
              "      <th>Negative affect</th>\n",
              "    </tr>\n",
              "  </thead>\n",
              "  <tbody>\n",
              "    <tr>\n",
              "      <th>year</th>\n",
              "      <td>1.000000</td>\n",
              "      <td>0.035515</td>\n",
              "      <td>0.077311</td>\n",
              "      <td>-0.010069</td>\n",
              "      <td>0.162174</td>\n",
              "      <td>0.220102</td>\n",
              "      <td>-0.041429</td>\n",
              "      <td>-0.079233</td>\n",
              "      <td>-0.003227</td>\n",
              "      <td>0.195926</td>\n",
              "    </tr>\n",
              "    <tr>\n",
              "      <th>hapiness_score</th>\n",
              "      <td>0.035515</td>\n",
              "      <td>1.000000</td>\n",
              "      <td>0.783824</td>\n",
              "      <td>0.705356</td>\n",
              "      <td>0.741200</td>\n",
              "      <td>0.525844</td>\n",
              "      <td>0.186132</td>\n",
              "      <td>-0.419349</td>\n",
              "      <td>0.530459</td>\n",
              "      <td>-0.296786</td>\n",
              "    </tr>\n",
              "    <tr>\n",
              "      <th>economy</th>\n",
              "      <td>0.077311</td>\n",
              "      <td>0.783824</td>\n",
              "      <td>1.000000</td>\n",
              "      <td>0.682438</td>\n",
              "      <td>0.834455</td>\n",
              "      <td>0.361404</td>\n",
              "      <td>-0.000901</td>\n",
              "      <td>-0.333645</td>\n",
              "      <td>0.297011</td>\n",
              "      <td>-0.204615</td>\n",
              "    </tr>\n",
              "    <tr>\n",
              "      <th>social_support</th>\n",
              "      <td>-0.010069</td>\n",
              "      <td>0.705356</td>\n",
              "      <td>0.682438</td>\n",
              "      <td>1.000000</td>\n",
              "      <td>0.613854</td>\n",
              "      <td>0.408765</td>\n",
              "      <td>0.065510</td>\n",
              "      <td>-0.216028</td>\n",
              "      <td>0.430414</td>\n",
              "      <td>-0.395676</td>\n",
              "    </tr>\n",
              "    <tr>\n",
              "      <th>healthy_life</th>\n",
              "      <td>0.162174</td>\n",
              "      <td>0.741200</td>\n",
              "      <td>0.834455</td>\n",
              "      <td>0.613854</td>\n",
              "      <td>1.000000</td>\n",
              "      <td>0.382536</td>\n",
              "      <td>0.020276</td>\n",
              "      <td>-0.311815</td>\n",
              "      <td>0.313989</td>\n",
              "      <td>-0.135599</td>\n",
              "    </tr>\n",
              "    <tr>\n",
              "      <th>freedom</th>\n",
              "      <td>0.220102</td>\n",
              "      <td>0.525844</td>\n",
              "      <td>0.361404</td>\n",
              "      <td>0.408765</td>\n",
              "      <td>0.382536</td>\n",
              "      <td>1.000000</td>\n",
              "      <td>0.319785</td>\n",
              "      <td>-0.476264</td>\n",
              "      <td>0.602743</td>\n",
              "      <td>-0.264397</td>\n",
              "    </tr>\n",
              "    <tr>\n",
              "      <th>generosity</th>\n",
              "      <td>-0.041429</td>\n",
              "      <td>0.186132</td>\n",
              "      <td>-0.000901</td>\n",
              "      <td>0.065510</td>\n",
              "      <td>0.020276</td>\n",
              "      <td>0.319785</td>\n",
              "      <td>1.000000</td>\n",
              "      <td>-0.278440</td>\n",
              "      <td>0.349683</td>\n",
              "      <td>-0.088906</td>\n",
              "    </tr>\n",
              "    <tr>\n",
              "      <th>corruption</th>\n",
              "      <td>-0.079233</td>\n",
              "      <td>-0.419349</td>\n",
              "      <td>-0.333645</td>\n",
              "      <td>-0.216028</td>\n",
              "      <td>-0.311815</td>\n",
              "      <td>-0.476264</td>\n",
              "      <td>-0.278440</td>\n",
              "      <td>1.000000</td>\n",
              "      <td>-0.290161</td>\n",
              "      <td>0.257595</td>\n",
              "    </tr>\n",
              "    <tr>\n",
              "      <th>Positive affect</th>\n",
              "      <td>-0.003227</td>\n",
              "      <td>0.530459</td>\n",
              "      <td>0.297011</td>\n",
              "      <td>0.430414</td>\n",
              "      <td>0.313989</td>\n",
              "      <td>0.602743</td>\n",
              "      <td>0.349683</td>\n",
              "      <td>-0.290161</td>\n",
              "      <td>1.000000</td>\n",
              "      <td>-0.372901</td>\n",
              "    </tr>\n",
              "    <tr>\n",
              "      <th>Negative affect</th>\n",
              "      <td>0.195926</td>\n",
              "      <td>-0.296786</td>\n",
              "      <td>-0.204615</td>\n",
              "      <td>-0.395676</td>\n",
              "      <td>-0.135599</td>\n",
              "      <td>-0.264397</td>\n",
              "      <td>-0.088906</td>\n",
              "      <td>0.257595</td>\n",
              "      <td>-0.372901</td>\n",
              "      <td>1.000000</td>\n",
              "    </tr>\n",
              "  </tbody>\n",
              "</table>\n",
              "</div>"
            ],
            "text/plain": [
              "                     year  hapiness_score  ...  Positive affect  Negative affect\n",
              "year             1.000000        0.035515  ...        -0.003227         0.195926\n",
              "hapiness_score   0.035515        1.000000  ...         0.530459        -0.296786\n",
              "economy          0.077311        0.783824  ...         0.297011        -0.204615\n",
              "social_support  -0.010069        0.705356  ...         0.430414        -0.395676\n",
              "healthy_life     0.162174        0.741200  ...         0.313989        -0.135599\n",
              "freedom          0.220102        0.525844  ...         0.602743        -0.264397\n",
              "generosity      -0.041429        0.186132  ...         0.349683        -0.088906\n",
              "corruption      -0.079233       -0.419349  ...        -0.290161         0.257595\n",
              "Positive affect -0.003227        0.530459  ...         1.000000        -0.372901\n",
              "Negative affect  0.195926       -0.296786  ...        -0.372901         1.000000\n",
              "\n",
              "[10 rows x 10 columns]"
            ]
          },
          "metadata": {},
          "execution_count": 13
        }
      ]
    },
    {
      "cell_type": "markdown",
      "metadata": {
        "id": "2BKGSriP0f6y"
      },
      "source": [
        "#çıkarım:\n",
        "en yüksek deeğrler gdp,healty, social support . \n",
        "en az year ve generosity"
      ]
    },
    {
      "cell_type": "code",
      "metadata": {
        "colab": {
          "base_uri": "https://localhost:8080/",
          "height": 200
        },
        "id": "FDtpEwFTEUE5",
        "outputId": "9d69f6e2-cabe-4677-bb90-28a149a9e862"
      },
      "source": [
        "f,ax = plt.subplots(figsize=(15, 15))\n",
        "sns.heatmap(data1.corr(), annot=True, linewidths=.7, fmt= '.2f',ax=ax)\n",
        "plt.show()"
      ],
      "execution_count": null,
      "outputs": [
        {
          "output_type": "error",
          "ename": "NameError",
          "evalue": "ignored",
          "traceback": [
            "\u001b[0;31m---------------------------------------------------------------------------\u001b[0m",
            "\u001b[0;31mNameError\u001b[0m                                 Traceback (most recent call last)",
            "\u001b[0;32m<ipython-input-1-452dd561e682>\u001b[0m in \u001b[0;36m<module>\u001b[0;34m()\u001b[0m\n\u001b[0;32m----> 1\u001b[0;31m \u001b[0mf\u001b[0m\u001b[0;34m,\u001b[0m\u001b[0max\u001b[0m \u001b[0;34m=\u001b[0m \u001b[0mplt\u001b[0m\u001b[0;34m.\u001b[0m\u001b[0msubplots\u001b[0m\u001b[0;34m(\u001b[0m\u001b[0mfigsize\u001b[0m\u001b[0;34m=\u001b[0m\u001b[0;34m(\u001b[0m\u001b[0;36m15\u001b[0m\u001b[0;34m,\u001b[0m \u001b[0;36m15\u001b[0m\u001b[0;34m)\u001b[0m\u001b[0;34m)\u001b[0m\u001b[0;34m\u001b[0m\u001b[0;34m\u001b[0m\u001b[0m\n\u001b[0m\u001b[1;32m      2\u001b[0m \u001b[0msns\u001b[0m\u001b[0;34m.\u001b[0m\u001b[0mheatmap\u001b[0m\u001b[0;34m(\u001b[0m\u001b[0mdata1\u001b[0m\u001b[0;34m.\u001b[0m\u001b[0mcorr\u001b[0m\u001b[0;34m(\u001b[0m\u001b[0;34m)\u001b[0m\u001b[0;34m,\u001b[0m \u001b[0mannot\u001b[0m\u001b[0;34m=\u001b[0m\u001b[0;32mTrue\u001b[0m\u001b[0;34m,\u001b[0m \u001b[0mlinewidths\u001b[0m\u001b[0;34m=\u001b[0m\u001b[0;36m.7\u001b[0m\u001b[0;34m,\u001b[0m \u001b[0mfmt\u001b[0m\u001b[0;34m=\u001b[0m \u001b[0;34m'.2f'\u001b[0m\u001b[0;34m,\u001b[0m\u001b[0max\u001b[0m\u001b[0;34m=\u001b[0m\u001b[0max\u001b[0m\u001b[0;34m)\u001b[0m\u001b[0;34m\u001b[0m\u001b[0;34m\u001b[0m\u001b[0m\n\u001b[1;32m      3\u001b[0m \u001b[0mplt\u001b[0m\u001b[0;34m.\u001b[0m\u001b[0mshow\u001b[0m\u001b[0;34m(\u001b[0m\u001b[0;34m)\u001b[0m\u001b[0;34m\u001b[0m\u001b[0;34m\u001b[0m\u001b[0m\n",
            "\u001b[0;31mNameError\u001b[0m: name 'plt' is not defined"
          ]
        }
      ]
    },
    {
      "cell_type": "code",
      "metadata": {
        "id": "h5-mKMYol7Fr"
      },
      "source": [
        "data1.columns"
      ],
      "execution_count": null,
      "outputs": []
    },
    {
      "cell_type": "code",
      "metadata": {
        "id": "SMFjjHUGg7zU"
      },
      "source": [
        "plt.figure(figsize=(35,10))\n",
        "sns.barplot(data=data1,x=\"country\",y=\"ladder_score\")\n",
        "plt.xticks(rotation=90) \n",
        "plt.show()"
      ],
      "execution_count": null,
      "outputs": []
    },
    {
      "cell_type": "code",
      "source": [
        "data3.rename(columns={'Country ': 'country', \n",
        "                   \n",
        "                   'Region':'region',\n",
        "                 \n",
        "                   'Economy (GDP per capita)' :'economy', \n",
        "                   'Family': 'social_support',\n",
        "                   'Healthy (Life Expectancy)':'healthy_life',\n",
        "                   'Freedom ':'freedom',\n",
        "                   'Generosity':'generosity',\n",
        "                   'Trust (Government Corruption)':'corruption',\n",
        "                   \n",
        "                  }, inplace=True)"
      ],
      "metadata": {
        "id": "mctvOKl4TNOC"
      },
      "execution_count": null,
      "outputs": []
    },
    {
      "cell_type": "code",
      "source": [
        "data3 = data3.drop('Happiness Rank', axis = 1)\n",
        "data3 = data3.drop('Standard Error', axis = 1)\n",
        "data3 = data3.drop('Dystopia Residual', axis = 1)\n",
        "data3 = data3.iloc[50:]"
      ],
      "metadata": {
        "id": "xfWFzxUwtc_O"
      },
      "execution_count": null,
      "outputs": []
    },
    {
      "cell_type": "code",
      "source": [
        "data3.region.unique()"
      ],
      "metadata": {
        "id": "8Fdl1t0wtfyN"
      },
      "execution_count": null,
      "outputs": []
    },
    {
      "cell_type": "code",
      "source": [
        "South_Asia=data3[data3['region']== 'Southern Asia']"
      ],
      "metadata": {
        "id": "ClevanSftwXp"
      },
      "execution_count": null,
      "outputs": []
    },
    {
      "cell_type": "code",
      "source": [
        "f,ax = plt.subplots(figsize=(15, 15))\n",
        "sns.heatmap(South_Asia.corr(), annot=True, linewidths=.7, fmt= '.2f',ax=ax)\n",
        "plt.show()"
      ],
      "metadata": {
        "id": "oFMb5er60vgo"
      },
      "execution_count": null,
      "outputs": []
    },
    {
      "cell_type": "code",
      "source": [
        "data1.columns"
      ],
      "metadata": {
        "id": "UEKXIr2xO4B0"
      },
      "execution_count": null,
      "outputs": []
    },
    {
      "cell_type": "code",
      "source": [
        "data1.plot.scatter(x= 'economy', y='generosity')"
      ],
      "metadata": {
        "id": "i2IF4T5eR8aP"
      },
      "execution_count": null,
      "outputs": []
    },
    {
      "cell_type": "code",
      "source": [
        "data1.plot.scatter(x= 'economy', y='corruption')"
      ],
      "metadata": {
        "id": "OyAg1qh5Qe18"
      },
      "execution_count": null,
      "outputs": []
    },
    {
      "cell_type": "code",
      "source": [
        "data1.plot.scatter(x= 'economy', y='healthy_life')"
      ],
      "metadata": {
        "id": "-zLYSjsvPu2T"
      },
      "execution_count": null,
      "outputs": []
    },
    {
      "cell_type": "code",
      "source": [
        "data1.plot.scatter(x= 'economy', y='generosity')"
      ],
      "metadata": {
        "id": "9foeudP102Cx"
      },
      "execution_count": null,
      "outputs": []
    },
    {
      "cell_type": "code",
      "source": [
        ""
      ],
      "metadata": {
        "id": "3qjQdXtbPC6t"
      },
      "execution_count": null,
      "outputs": []
    }
  ]
}